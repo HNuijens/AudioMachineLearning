{
 "cells": [
  {
   "cell_type": "markdown",
   "id": "f1485b6a",
   "metadata": {},
   "source": [
    "<h1 style = \"font-size:3rem;color:darkcyan\"> Training a Neural Network </h1>\n",
    "\n",
    "implementing backward propagation from scratch\n"
   ]
  },
  {
   "cell_type": "code",
   "execution_count": 307,
   "id": "30d47164",
   "metadata": {},
   "outputs": [],
   "source": [
    "# import libraries\n",
    "import numpy as np\n",
    "import math\n",
    "from random import random\n",
    "import matplotlib.pyplot as plt"
   ]
  },
  {
   "cell_type": "code",
   "execution_count": 303,
   "id": "8519b519",
   "metadata": {},
   "outputs": [],
   "source": [
    "class ANN:\n",
    "    \n",
    "    def __init__(self,n_inputs = 3, hidden_layer_sizes = [3,4], n_targets = 1):\n",
    "        self.n_inputs = n_inputs\n",
    "        self.hidden_layer_sizes = hidden_layer_sizes\n",
    "        self.n_targets = n_targets\n",
    "        \n",
    "        layers = [self.n_inputs] + self.hidden_layer_sizes + [self.n_targets]\n",
    "        print(layers)\n",
    "        \n",
    "        # initialize random weights, empty derivatives and activations\n",
    "        self.weights = []\n",
    "        self.derivatives = []\n",
    "        for i in range(len(layers)-1):\n",
    "            W = np.random.rand(layers[i], layers[i+1])\n",
    "            self.weights.append(W)\n",
    "            \n",
    "            d = np.zeros((layers[i], layers[i+1]))\n",
    "            self.derivatives.append(d)\n",
    "            \n",
    "        self.activations = []\n",
    "        for i in range(len(layers)):\n",
    "            a = np.zeros(layers[i])\n",
    "            self.activations.append(a)\n",
    "        \n",
    "    def _sigmoid(self, h):\n",
    "        a = 1 / (1 + math.e**(-h))\n",
    "        return a\n",
    "    \n",
    "    def _sigmoid_dh(self, x):\n",
    "        da = x - (1.0 - x)\n",
    "        return da\n",
    "    \n",
    "    def _activate(self, inputs, W):\n",
    "        h = np.dot(inputs, W) # summation\n",
    "\n",
    "        activation = self._sigmoid(h) # modulation\n",
    "        return activation\n",
    "    \n",
    "    def _forward_propagate(self, inputs):\n",
    "        activations = inputs\n",
    "        self.activations[0] = activations\n",
    "        for i in range(len(self.weights)):\n",
    "            activations = self._activate(activations, self.weights[i])\n",
    "            self.activations[i+1] = activations\n",
    "        return activations\n",
    "    \n",
    "    def _back_propagate(self, error):\n",
    "        # calculate error gradient\n",
    "        #error_gradient = self.a[len(weights)] - targets[len(weights)]\n",
    "        \n",
    "        for i in reversed(range(len(self.weights))):\n",
    "            activations = self.activations[i+1]\n",
    "            delta = error * self._sigmoid_dh(activations)\n",
    "            \n",
    "            delta_reshaped =  delta.reshape(delta.shape[0], -1).T\n",
    "            current_activations = self.activations[i]\n",
    "            current_activations_reshaped = current_activations.reshape(current_activations.shape[0], -1)\n",
    "            \n",
    "            #print(current_activations.shape)\n",
    "            self.derivatives[i] = np.dot(current_activations_reshaped, delta_reshaped)\n",
    "            error = np.dot(delta, self.weights[i].T)\n",
    "            \n",
    "            # print(f'W[{i}] = {self.derivatives[i]}')\n",
    "        return error\n",
    "         \n",
    "    def _gradient_descent(self, learning_rate):\n",
    "        for i in range(len(self.weights)):\n",
    "            self.weights[i] += self.derivatives[i] * learning_rate\n",
    "   \n",
    "    def _mse(self, target, output):\n",
    "        return np.average((target - output)**2)\n",
    "    \n",
    "    def train_neural_network(self, inputs, targets, learning_rate, max_epochs):\n",
    "        #if np.array(inputs).size != self.n_inputs:\n",
    "         #   print(\"Number of inputs does not match the input layer!\")\n",
    "          #  return None\n",
    "        \n",
    "        #if np.array(targets).size != self.n_targets:\n",
    "       #     print(\"Number of targets does not match the output layer!\")\n",
    "         #   return None\n",
    "        \n",
    "        # repeat for max_epochs or when target error rate is achieved\n",
    "        for i in range(max_epochs):\n",
    "            sum_error = 0\n",
    "            for input,target in zip(inputs, targets):\n",
    "                # propagate forward\n",
    "                output = self._forward_propagate(input)\n",
    "\n",
    "                # calculate new error\n",
    "                error = target - output\n",
    "\n",
    "                # propagate backward\n",
    "                self._back_propagate(error)\n",
    "\n",
    "                # gradient descent\n",
    "                self._gradient_descent(learning_rate)\n",
    "\n",
    "                # calc sum error & print\n",
    "                sum_error += self._mse(target, output)\n",
    "            \n",
    "            # print error after each epoch\n",
    "            print(f'Error = {sum_error / len(inputs)} at epoch {i}')\n",
    "        \n",
    "        print(f'number of epochs exceeded ({i})')\n",
    "        return self._forward_propagate(inputs)\n"
   ]
  },
  {
   "cell_type": "code",
   "execution_count": 304,
   "id": "6ee99408",
   "metadata": {},
   "outputs": [
    {
     "name": "stdout",
     "output_type": "stream",
     "text": [
      "[2, 5, 1]\n"
     ]
    }
   ],
   "source": [
    "ann = ANN(2, [5], 1)"
   ]
  },
  {
   "cell_type": "code",
   "execution_count": 312,
   "id": "56b881fd",
   "metadata": {
    "scrolled": true
   },
   "outputs": [
    {
     "name": "stdout",
     "output_type": "stream",
     "text": [
      "Error = 0.03577762652534582 at epoch 0\n",
      "Error = 0.03582690692112693 at epoch 1\n",
      "Error = 0.036026462802270925 at epoch 2\n",
      "Error = 0.036223746499370935 at epoch 3\n",
      "Error = 0.03641780785745958 at epoch 4\n",
      "Error = 0.03660789472196341 at epoch 5\n",
      "Error = 0.036793426231260466 at epoch 6\n",
      "Error = 0.036973967961501646 at epoch 7\n",
      "Error = 0.037149209323342494 at epoch 8\n",
      "Error = 0.03731894337402861 at epoch 9\n",
      "Error = 0.037483049045755445 at epoch 10\n",
      "Error = 0.03764147568669126 at epoch 11\n",
      "Error = 0.037794229748834264 at epoch 12\n",
      "Error = 0.03794136342463437 at epoch 13\n",
      "Error = 0.03808296502259622 at epoch 14\n",
      "Error = 0.038219150873909244 at epoch 15\n",
      "Error = 0.03835005857241373 at epoch 16\n",
      "Error = 0.038475841365328355 at epoch 17\n",
      "Error = 0.0385966635296307 at epoch 18\n",
      "Error = 0.03871269658715168 at epoch 19\n",
      "Error = 0.03882411622923398 at epoch 20\n",
      "Error = 0.038931099838569995 at epoch 21\n",
      "Error = 0.03903382451122504 at epoch 22\n",
      "Error = 0.03913246549569641 at epoch 23\n",
      "Error = 0.03922719497814014 at epoch 24\n",
      "Error = 0.03931818115366521 at epoch 25\n",
      "Error = 0.03940558753293971 at epoch 26\n",
      "Error = 0.03948957244142122 at epoch 27\n",
      "Error = 0.03957028867542589 at epoch 28\n",
      "Error = 0.03964788328514125 at epoch 29\n",
      "Error = 0.03972249745968187 at epoch 30\n",
      "Error = 0.0397942664935159 at epoch 31\n",
      "Error = 0.039863319817145894 at epoch 32\n",
      "Error = 0.03992978107792212 at epoch 33\n",
      "Error = 0.03999376825937612 at epoch 34\n",
      "Error = 0.040055393829551075 at epoch 35\n",
      "Error = 0.04011476491056483 at epoch 36\n",
      "Error = 0.04017198346308859 at epoch 37\n",
      "Error = 0.0402271464806387 at epoch 38\n",
      "Error = 0.040280346189579416 at epoch 39\n",
      "Error = 0.0403316702515646 at epoch 40\n",
      "Error = 0.04038120196582904 at epoch 41\n",
      "Error = 0.04042902046930613 at epoch 42\n",
      "Error = 0.040475200933006474 at epoch 43\n",
      "Error = 0.04051981475347505 at epoch 44\n",
      "Error = 0.0405629297384498 at epoch 45\n",
      "Error = 0.0406046102860952 at epoch 46\n",
      "Error = 0.04064491755739 at epoch 47\n",
      "Error = 0.040683909641405724 at epoch 48\n",
      "Error = 0.04072164171334787 at epoch 49\n",
      "number of epochs exceeded (49)\n"
     ]
    }
   ],
   "source": [
    "learning_rate = 0.1\n",
    "epochs = 50\n",
    "\n",
    "inputs = np.array([[random() / 2 for _ in range(2)] for _ in range(1000)])\n",
    "targets = np.array([[i[0] + i[1]] for i in inputs])\n",
    "\n",
    "out = ann.train_neural_network(inputs, targets, learning_rate, epochs)"
   ]
  },
  {
   "cell_type": "code",
   "execution_count": 315,
   "id": "360a8e82",
   "metadata": {},
   "outputs": [
    {
     "data": {
      "text/plain": [
       "[<matplotlib.lines.Line2D at 0x1675e693c10>]"
      ]
     },
     "execution_count": 315,
     "metadata": {},
     "output_type": "execute_result"
    },
    {
     "data": {
      "image/png": "[encoded data removed]",
      "text/plain": [
       "<Figure size 432x288 with 1 Axes>"
      ]
     },
     "metadata": {
      "needs_background": "light"
     },
     "output_type": "display_data"
    }
   ],
   "source": [
    "#plt.plot(inputs[0])\n",
    "plt.plot(targets)\n",
    "plt.plot(out)"
   ]
  },
  {
   "cell_type": "code",
   "execution_count": null,
   "id": "a81b714a",
   "metadata": {},
   "outputs": [],
   "source": []
  },
  {
   "cell_type": "code",
   "execution_count": null,
   "id": "5de281e9",
   "metadata": {},
   "outputs": [],
   "source": []
  }
 ],
 "metadata": {
  "kernelspec": {
   "display_name": "Python 3 (ipykernel)",
   "language": "python",
   "name": "python3"
  },
  "language_info": {
   "codemirror_mode": {
    "name": "ipython",
    "version": 3
   },
   "file_extension": ".py",
   "mimetype": "text/x-python",
   "name": "python",
   "nbconvert_exporter": "python",
   "pygments_lexer": "ipython3",
   "version": "3.9.12"
  }
 },
 "nbformat": 4,
 "nbformat_minor": 5
}
