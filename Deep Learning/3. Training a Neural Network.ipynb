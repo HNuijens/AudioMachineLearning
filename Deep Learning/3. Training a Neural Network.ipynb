{
 "cells": [
  {
   "cell_type": "markdown",
   "id": "f1485b6a",
   "metadata": {},
   "source": [
    "<h1 style = \"font-size:3rem;color:darkcyan\"> Training a Neural Network </h1>\n",
    "\n",
    "implementing backward propagation from scratch\n"
   ]
  },
  {
   "cell_type": "code",
   "execution_count": 8,
   "id": "30d47164",
   "metadata": {},
   "outputs": [],
   "source": [
    "# import libraries\n",
    "import numpy as np\n",
    "import math\n",
    "from random import random\n",
    "import matplotlib.pyplot as plt"
   ]
  },
  {
   "cell_type": "code",
   "execution_count": 266,
   "id": "8519b519",
   "metadata": {},
   "outputs": [],
   "source": [
    "class ANN:\n",
    "    \n",
    "    def __init__(self,n_inputs = 3, hidden_layer_sizes = [3,4], n_targets = 1):\n",
    "        self.n_inputs = n_inputs\n",
    "        self.hidden_layer_sizes = hidden_layer_sizes\n",
    "        self.n_targets = n_targets\n",
    "        \n",
    "        layers = [self.n_inputs] + self.hidden_layer_sizes + [self.n_targets]\n",
    "        print(layers)\n",
    "        \n",
    "        self.weights = [np.random.rand(layers[i], layers[i+1]) for i in range(len(layers)-1)]\n",
    "        self.biases = [np.random.rand(layers[i]) for i in range(1, len(layers))]\n",
    "        self.activations = [np.zeros(layers[i]) for i in range(len(layers))]\n",
    "        self.derivatives = [np.zeros((layers[i], layers[i+1])) for i in range(len(layers)-1)]\n",
    "        self.deltas = [np.zeros(layers[i]) for i in range(1, len(layers))]\n",
    "        \n",
    "    def _sigmoid(self, net_inputs):\n",
    "        a = 1 / (1 + np.exp(-net_inputs))\n",
    "        return a\n",
    "    \n",
    "    def _sigmoid_dh(self, x):\n",
    "        da = x * (1.0 - x)\n",
    "        return da\n",
    "    \n",
    "    def _activate(self, inputs, W, b):\n",
    "        net_inputs = np.dot(inputs, W) + b # summation\n",
    "        activation = self._sigmoid(net_inputs) # modulation\n",
    "        return activation\n",
    "    \n",
    "    def _forward_propagate(self, inputs):\n",
    "        activations = inputs\n",
    "        self.activations[0] = activations\n",
    "        for i in range(len(self.weights)):\n",
    "            activations = self._activate(activations, self.weights[i], self.biases[i])\n",
    "            self.activations[i+1] = activations\n",
    "        return activations\n",
    "    \n",
    "    def _back_propagate(self, error, verbose=False):\n",
    "        # calculate error gradient\n",
    "        for i in reversed(range(len(self.derivatives))):\n",
    "            activations = self.activations[i+1]\n",
    "            delta = error * self._sigmoid_dh(activations)\n",
    "            self.deltas[i] = delta\n",
    "            delta_reshaped =  delta.reshape(delta.shape[0], -1).T\n",
    "            current_activations = self.activations[i]\n",
    "            current_activations_reshaped = current_activations.reshape(current_activations.shape[0], -1)\n",
    "            self.derivatives[i] = np.dot(current_activations_reshaped, delta_reshaped)\n",
    "            error = np.dot(delta, self.weights[i].T)\n",
    "            \n",
    "            if verbose:\n",
    "                print(f'Derivatives for W[{i}] = {self.derivatives[i]}')\n",
    "                \n",
    "        return error\n",
    "         \n",
    "    def _gradient_descent(self, learning_rate):\n",
    "        for i in range(len(self.weights)):\n",
    "            # print(f'Original weights = {self.weights[i]}')\n",
    "            self.weights[i] += self.derivatives[i] * learning_rate\n",
    "            self.biases[i] += self.deltas[i] * learning_rate\n",
    "            # print(f'Updated weights = {self.weights[i]}')\n",
    "    \n",
    "    def _mse(self, target, output):\n",
    "        return np.average((target - output)**2)\n",
    "    \n",
    "    def train_neural_network(self, inputs, targets, learning_rate, max_epochs):\n",
    "        if np.array(inputs).shape[1] != self.n_inputs:\n",
    "            print(\"Number of inputs does not match the input layer!\")\n",
    "            return None\n",
    "        \n",
    "        if np.array(targets).shape[1] != self.n_targets:\n",
    "            print(\"Number of targets does not match the output layer!\")\n",
    "            return None\n",
    "        \n",
    "        # repeat for max_epochs or when target error rate is achieved\n",
    "        for i in range(max_epochs):\n",
    "            sum_error = 0\n",
    "            for x,target in zip(inputs, targets):\n",
    "                # propagate forward\n",
    "                output = self._forward_propagate(x)\n",
    "\n",
    "                # calculate new error\n",
    "                error = target - output\n",
    "\n",
    "                # propagate backward\n",
    "                self._back_propagate(error)\n",
    "\n",
    "                # gradient descent\n",
    "                self._gradient_descent(learning_rate)\n",
    "\n",
    "                # calc sum error & print\n",
    "                sum_error += self._mse(target, output)\n",
    "            \n",
    "            # print error after each epoch\n",
    "            print(f'Error = {sum_error / len(inputs)} at epoch {i}')\n",
    "        \n",
    "        print(f'number of epochs exceeded ({i})')\n",
    "        return self._forward_propagate(inputs)"
   ]
  },
  {
   "cell_type": "code",
   "execution_count": 267,
   "id": "6ee99408",
   "metadata": {},
   "outputs": [
    {
     "name": "stdout",
     "output_type": "stream",
     "text": [
      "[2, 5, 1]\n"
     ]
    }
   ],
   "source": [
    "ann = ANN(2, [5], 1)"
   ]
  },
  {
   "cell_type": "code",
   "execution_count": 268,
   "id": "c9d4edb4",
   "metadata": {},
   "outputs": [],
   "source": [
    "learning_rate = 0.1\n",
    "epochs = 50\n",
    "\n",
    "# train model to add inputs\n",
    "inputs = np.array([[random() / 2 for _ in range(2)] for _ in range(1000)])\n",
    "targets = np.array([[i[0] + i[1]] for i in inputs])"
   ]
  },
  {
   "cell_type": "code",
   "execution_count": 269,
   "id": "98ff4803",
   "metadata": {},
   "outputs": [
    {
     "name": "stdout",
     "output_type": "stream",
     "text": [
      "Inputs: 0.42750004108341977 and 0.06494491178825285 and targets = [0.49244495]\n"
     ]
    }
   ],
   "source": [
    "print(f'Inputs: {inputs[0, 0]} and {inputs[0 , 1]} and targets = {targets[0]}')"
   ]
  },
  {
   "cell_type": "code",
   "execution_count": 270,
   "id": "e02656d8",
   "metadata": {},
   "outputs": [
    {
     "name": "stdout",
     "output_type": "stream",
     "text": [
      "Error = 0.06470267347687113 at epoch 0\n",
      "Error = 0.04334658904986824 at epoch 1\n",
      "Error = 0.042676227739546296 at epoch 2\n",
      "Error = 0.04198950441234916 at epoch 3\n",
      "Error = 0.0412419493736393 at epoch 4\n",
      "Error = 0.04038752190867369 at epoch 5\n",
      "Error = 0.03937602458816171 at epoch 6\n",
      "Error = 0.0381516002531141 at epoch 7\n",
      "Error = 0.03665312452228002 at epoch 8\n",
      "Error = 0.03481805843732294 at epoch 9\n",
      "Error = 0.032591925947532775 at epoch 10\n",
      "Error = 0.02994506699020228 at epoch 11\n",
      "Error = 0.026895107359298502 at epoch 12\n",
      "Error = 0.02352708286591666 at epoch 13\n",
      "Error = 0.0199970655912987 at epoch 14\n",
      "Error = 0.016507902554989993 at epoch 15\n",
      "Error = 0.013261494899702915 at epoch 16\n",
      "Error = 0.010409907776022246 at epoch 17\n",
      "Error = 0.008029228231671492 at epoch 18\n",
      "Error = 0.006123265315298055 at epoch 19\n",
      "Error = 0.0046462507896376124 at epoch 20\n",
      "Error = 0.0035288488755684916 at epoch 21\n",
      "Error = 0.0026977576738521866 at epoch 22\n",
      "Error = 0.0020867187560229604 at epoch 23\n",
      "Error = 0.001640844142041238 at epoch 24\n",
      "Error = 0.001317012357693 at epoch 25\n",
      "Error = 0.0010824558293553751 at epoch 26\n",
      "Error = 0.0009127955520294107 at epoch 27\n",
      "Error = 0.000790134025503651 at epoch 28\n",
      "Error = 0.000701440302036313 at epoch 29\n",
      "Error = 0.000637273557025399 at epoch 30\n",
      "Error = 0.0005908129332316773 at epoch 31\n",
      "Error = 0.0005571371614341005 at epoch 32\n",
      "Error = 0.000532697148021167 at epoch 33\n",
      "Error = 0.0005149330991500386 at epoch 34\n",
      "Error = 0.0005019979344289589 at epoch 35\n",
      "Error = 0.0004925580092618328 at epoch 36\n",
      "Error = 0.00048564970586351206 at epoch 37\n",
      "Error = 0.0004805762554150074 at epoch 38\n",
      "Error = 0.0004768334810132898 at epoch 39\n",
      "Error = 0.00047405631949319475 at epoch 40\n",
      "Error = 0.0004719802752182335 at epoch 41\n",
      "Error = 0.00047041361100699303 at epoch 42\n",
      "Error = 0.00046921726665732704 at epoch 43\n",
      "Error = 0.00046829034468112306 at epoch 44\n",
      "Error = 0.00046755961101880737 at epoch 45\n",
      "Error = 0.0004669718942550836 at epoch 46\n",
      "Error = 0.0004664885793582393 at epoch 47\n",
      "Error = 0.00046608161633126074 at epoch 48\n",
      "Error = 0.0004657306254525707 at epoch 49\n",
      "number of epochs exceeded (49)\n"
     ]
    }
   ],
   "source": [
    "out = ann.train_neural_network(inputs, targets, learning_rate, epochs)"
   ]
  },
  {
   "cell_type": "code",
   "execution_count": 271,
   "id": "3f29d06a",
   "metadata": {},
   "outputs": [
    {
     "name": "stdout",
     "output_type": "stream",
     "text": [
      "[array([ 1.1786079 ,  0.88602228, -1.6213292 , -0.83213841, -0.43964768]), array([-2.46343768])]\n"
     ]
    }
   ],
   "source": [
    "print(biases)"
   ]
  },
  {
   "cell_type": "code",
   "execution_count": 273,
   "id": "a81b714a",
   "metadata": {},
   "outputs": [
    {
     "data": {
      "text/plain": [
       "[<matplotlib.lines.Line2D at 0x1eb2bacd5b0>]"
      ]
     },
     "execution_count": 273,
     "metadata": {},
     "output_type": "execute_result"
    },
    {
     "data": {
      "image/png": "[encoded data removed]",
      "text/plain": [
       "<Figure size 1080x360 with 3 Axes>"
      ]
     },
     "metadata": {
      "needs_background": "light"
     },
     "output_type": "display_data"
    }
   ],
   "source": [
    "plt.figure(figsize = (15,5))\n",
    "plt.subplot(1,3,1)\n",
    "plt.title('Target Data')\n",
    "plt.plot(targets)\n",
    "plt.subplot(1,3,2)\n",
    "plt.title('Output Data')\n",
    "plt.plot(out)\n",
    "plt.subplot(1,3,3)\n",
    "plt.title('Error')\n",
    "plt.plot(targets - out)"
   ]
  },
  {
   "cell_type": "code",
   "execution_count": 265,
   "id": "360a8e82",
   "metadata": {},
   "outputs": [
    {
     "name": "stdout",
     "output_type": "stream",
     "text": [
      "Actual value: 0.5, predicted value: [0.50040462]\n",
      "Error = [-0.00040462]\n"
     ]
    }
   ],
   "source": [
    "# predict data\n",
    "inputs = [0.4, 0.1]\n",
    "output = inputs[0] + inputs[1]\n",
    "y_pred = ann._forward_propagate(inputs)\n",
    "print(f'Actual value: {output}, predicted value: {y_pred}')\n",
    "print(f'Error = {output - y_pred}')"
   ]
  },
  {
   "cell_type": "code",
   "execution_count": null,
   "id": "5de281e9",
   "metadata": {},
   "outputs": [],
   "source": []
  },
  {
   "cell_type": "code",
   "execution_count": null,
   "id": "4fd4e4b6",
   "metadata": {},
   "outputs": [],
   "source": []
  }
 ],
 "metadata": {
  "kernelspec": {
   "display_name": "Python 3 (ipykernel)",
   "language": "python",
   "name": "python3"
  },
  "language_info": {
   "codemirror_mode": {
    "name": "ipython",
    "version": 3
   },
   "file_extension": ".py",
   "mimetype": "text/x-python",
   "name": "python",
   "nbconvert_exporter": "python",
   "pygments_lexer": "ipython3",
   "version": "3.9.12"
  }
 },
 "nbformat": 4,
 "nbformat_minor": 5
}
