{
 "cells": [
  {
   "cell_type": "markdown",
   "id": "f1485b6a",
   "metadata": {},
   "source": [
    "<h1 style = \"font-size:3rem;color:darkcyan\"> Training a Neural Network </h1>\n",
    "\n",
    "implementing backward propagation from scratch\n"
   ]
  },
  {
   "cell_type": "code",
   "execution_count": 10,
   "id": "30d47164",
   "metadata": {},
   "outputs": [],
   "source": [
    "# import libraries\n",
    "import numpy as np\n",
    "import math\n",
    "from random import random\n",
    "import matplotlib.pyplot as plt"
   ]
  },
  {
   "cell_type": "code",
   "execution_count": 60,
   "id": "8519b519",
   "metadata": {},
   "outputs": [],
   "source": [
    "class ANN:\n",
    "    \n",
    "    def __init__(self,n_inputs = 3, hidden_layer_sizes = [3,4], n_targets = 1):\n",
    "        self.n_inputs = n_inputs\n",
    "        self.hidden_layer_sizes = hidden_layer_sizes\n",
    "        self.n_targets = n_targets\n",
    "        \n",
    "        layers = [self.n_inputs] + self.hidden_layer_sizes + [self.n_targets]\n",
    "        print(layers)\n",
    "       \n",
    "        self.weights = [np.random.rand(layers[i], layers[i+1]) for i in range(len(layers)-1)]\n",
    "        self.activations = [np.zeros(layers[i]) for i in range(len(layers))]\n",
    "        self.derivatives = [np.zeros((layers[i], layers[i+1])) for i in range(len(layers)-1)]\n",
    "        \n",
    "    def _sigmoid(self, h):\n",
    "        a = 1 / (1 + math.e**(-h))\n",
    "        return a\n",
    "    \n",
    "    def _sigmoid_dh(self, x):\n",
    "        da = x - (1.0 - x)\n",
    "        return da\n",
    "    \n",
    "    def _activate(self, inputs, W):\n",
    "        h = np.dot(inputs, W) # summation\n",
    "\n",
    "        activation = self._sigmoid(h) # modulation\n",
    "        return activation\n",
    "    \n",
    "    def _forward_propagate(self, inputs):\n",
    "        activations = inputs\n",
    "        self.activations[0] = activations\n",
    "        for i in range(len(self.weights)):\n",
    "            activations = self._activate(activations, self.weights[i])\n",
    "            self.activations[i+1] = activations\n",
    "        return activations\n",
    "    \n",
    "    def _back_propagate(self, error):\n",
    "        # calculate error gradient\n",
    "        #error_gradient = self.a[len(weights)] - targets[len(weights)]\n",
    "        \n",
    "        for i in reversed(range(len(self.weights))):\n",
    "            activations = self.activations[i+1]\n",
    "            delta = error * self._sigmoid_dh(activations)\n",
    "            \n",
    "            delta_reshaped =  delta.reshape(delta.shape[0], -1).T\n",
    "            current_activations = self.activations[i]\n",
    "            current_activations_reshaped = current_activations.reshape(current_activations.shape[0], -1)\n",
    "            \n",
    "            #print(current_activations.shape)\n",
    "            self.derivatives[i] = np.dot(current_activations_reshaped, delta_reshaped)\n",
    "            error = np.dot(delta, self.weights[i].T)\n",
    "            \n",
    "            # print(f'W[{i}] = {self.derivatives[i]}')\n",
    "        return error\n",
    "         \n",
    "    def _gradient_descent(self, learning_rate):\n",
    "        for i in range(len(self.weights)):\n",
    "            self.weights[i] += self.derivatives[i] * learning_rate\n",
    "   \n",
    "    def _mse(self, target, output):\n",
    "        return np.average((target - output)**2)\n",
    "    \n",
    "    def train_neural_network(self, inputs, targets, learning_rate, max_epochs):\n",
    "        #if np.array(inputs).size != self.n_inputs:\n",
    "         #   print(\"Number of inputs does not match the input layer!\")\n",
    "          #  return None\n",
    "        \n",
    "        #if np.array(targets).size != self.n_targets:\n",
    "       #     print(\"Number of targets does not match the output layer!\")\n",
    "         #   return None\n",
    "        \n",
    "        # repeat for max_epochs or when target error rate is achieved\n",
    "        for i in range(max_epochs):\n",
    "            sum_error = 0\n",
    "            for input,target in zip(inputs, targets):\n",
    "                # propagate forward\n",
    "                output = self._forward_propagate(input)\n",
    "\n",
    "                # calculate new error\n",
    "                error = target - output\n",
    "\n",
    "                # propagate backward\n",
    "                self._back_propagate(error)\n",
    "\n",
    "                # gradient descent\n",
    "                self._gradient_descent(learning_rate)\n",
    "\n",
    "                # calc sum error & print\n",
    "                sum_error += self._mse(target, output)\n",
    "            \n",
    "            # print error after each epoch\n",
    "            print(f'Error = {sum_error / len(inputs)} at epoch {i}')\n",
    "        \n",
    "        print(f'number of epochs exceeded ({i})')\n",
    "        return self._forward_propagate(inputs)"
   ]
  },
  {
   "cell_type": "code",
   "execution_count": 61,
   "id": "6ee99408",
   "metadata": {},
   "outputs": [
    {
     "name": "stdout",
     "output_type": "stream",
     "text": [
      "[2, 5, 1]\n"
     ]
    }
   ],
   "source": [
    "ann = ANN(2, [5], 1)"
   ]
  },
  {
   "cell_type": "code",
   "execution_count": 62,
   "id": "c9d4edb4",
   "metadata": {},
   "outputs": [],
   "source": [
    "learning_rate = 0.1\n",
    "epochs = 50\n",
    "\n",
    "inputs = np.array([[random() / 2 for _ in range(2)] for _ in range(1000)])\n",
    "targets = np.array([[i[0] + i[1]] for i in inputs])"
   ]
  },
  {
   "cell_type": "code",
   "execution_count": 63,
   "id": "a8dd4f36",
   "metadata": {},
   "outputs": [
    {
     "name": "stdout",
     "output_type": "stream",
     "text": [
      "Error = 0.04519860937928883 at epoch 0\n",
      "Error = 0.04138618381192187 at epoch 1\n",
      "Error = 0.041320438196332306 at epoch 2\n",
      "Error = 0.04126599728264042 at epoch 3\n",
      "Error = 0.04120711833276096 at epoch 4\n",
      "Error = 0.041142325244119655 at epoch 5\n",
      "Error = 0.041070579038928266 at epoch 6\n",
      "Error = 0.0409906563794502 at epoch 7\n",
      "Error = 0.04090108427655711 at epoch 8\n",
      "Error = 0.04080008659274347 at epoch 9\n",
      "Error = 0.0406855213594643 at epoch 10\n",
      "Error = 0.04055480881795848 at epoch 11\n",
      "Error = 0.04040485322780501 at epoch 12\n",
      "Error = 0.040231966369009636 at epoch 13\n",
      "Error = 0.040031809354209406 at epoch 14\n",
      "Error = 0.03979938376797497 at epoch 15\n",
      "Error = 0.039529124809992565 at epoch 16\n",
      "Error = 0.039215176964025523 at epoch 17\n",
      "Error = 0.038851957953433894 at epoch 18\n",
      "Error = 0.03843511484198416 at epoch 19\n",
      "Error = 0.037962901555808566 at epoch 20\n",
      "Error = 0.03743780936749035 at epoch 21\n",
      "Error = 0.03686796936556807 at epoch 22\n",
      "Error = 0.036267582424958526 at epoch 23\n",
      "Error = 0.03565573330835924 at epoch 24\n",
      "Error = 0.0350536033457848 at epoch 25\n",
      "Error = 0.0344809963828999 at epoch 26\n",
      "Error = 0.03395351923068266 at epoch 27\n",
      "Error = 0.03348132456504558 at epoch 28\n",
      "Error = 0.03306942873113528 at epoch 29\n",
      "Error = 0.032718964514814625 at epoch 30\n",
      "Error = 0.03242862623414179 at epoch 31\n",
      "Error = 0.03219582987268893 at epoch 32\n",
      "Error = 0.03201743594670422 at epoch 33\n",
      "Error = 0.0318900949475276 at epoch 34\n",
      "Error = 0.031810353838225496 at epoch 35\n",
      "Error = 0.03177465434583318 at epoch 36\n",
      "Error = 0.03177931105501106 at epoch 37\n",
      "Error = 0.031820512507275446 at epoch 38\n",
      "Error = 0.0318943560222619 at epoch 39\n",
      "Error = 0.031996909179138944 at epoch 40\n",
      "Error = 0.03212428459109106 at epoch 41\n",
      "Error = 0.032272715153418785 at epoch 42\n",
      "Error = 0.032438620483058726 at epoch 43\n",
      "Error = 0.032618659334962684 at epoch 44\n",
      "Error = 0.03280976617288485 at epoch 45\n",
      "Error = 0.03300917241688537 at epoch 46\n",
      "Error = 0.03321441425289552 at epoch 47\n",
      "Error = 0.03342332950256288 at epoch 48\n",
      "Error = 0.03363404616394379 at epoch 49\n",
      "number of epochs exceeded (49)\n"
     ]
    }
   ],
   "source": [
    "out = ann.train_neural_network(inputs, targets, learning_rate, epochs)"
   ]
  },
  {
   "cell_type": "code",
   "execution_count": 59,
   "id": "ad26333c",
   "metadata": {},
   "outputs": [
    {
     "name": "stdout",
     "output_type": "stream",
     "text": [
      "[0.59277291]\n",
      "[0.]\n"
     ]
    }
   ],
   "source": [
    "print(targets[10])\n",
    "print(out[10])"
   ]
  },
  {
   "cell_type": "code",
   "execution_count": null,
   "id": "360a8e82",
   "metadata": {},
   "outputs": [],
   "source": [
    "# predict data\n",
    "inputs = [0.1, 0.3]\n",
    "output = [0.4]\n",
    "y_pred = ann._forward_propagate(inputs)\n",
    "print(f'predicted value = {y_pred}')"
   ]
  },
  {
   "cell_type": "code",
   "execution_count": null,
   "id": "a81b714a",
   "metadata": {},
   "outputs": [],
   "source": []
  },
  {
   "cell_type": "code",
   "execution_count": null,
   "id": "5de281e9",
   "metadata": {},
   "outputs": [],
   "source": []
  }
 ],
 "metadata": {
  "kernelspec": {
   "display_name": "Python 3 (ipykernel)",
   "language": "python",
   "name": "python3"
  },
  "language_info": {
   "codemirror_mode": {
    "name": "ipython",
    "version": 3
   },
   "file_extension": ".py",
   "mimetype": "text/x-python",
   "name": "python",
   "nbconvert_exporter": "python",
   "pygments_lexer": "ipython3",
   "version": "3.9.12"
  }
 },
 "nbformat": 4,
 "nbformat_minor": 5
}
