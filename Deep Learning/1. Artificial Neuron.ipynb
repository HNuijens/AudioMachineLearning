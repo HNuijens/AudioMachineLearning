{
 "cells": [
  {
   "cell_type": "markdown",
   "id": "19182f88",
   "metadata": {},
   "source": [
    "<h1 style = \"font-size:3rem;color:darkcyan\"> Artificial Neuron Implementation </h1>\n",
    "\n",
    "An artifical neuron is activated through input activations and weights (weighted inputs):\n",
    "\n",
    "$h = \\sum_{i}x_iw_i = x_1w_1 + x_2w_2 + x_3w_4 + ...  = X\\cdot W $.\n",
    "\n",
    "This is then modulated to create output $y$ through the activation function $f = f(h)$.\n",
    "\n",
    "Often a sigmoid is used as an activation function:\n",
    "\n",
    "$y = \\frac{1}{1 + e^{-h}}$,\n",
    "\n",
    "which scales the activation to a number between 0 and 1"
   ]
  },
  {
   "cell_type": "code",
   "execution_count": 64,
   "id": "446f70d8",
   "metadata": {},
   "outputs": [],
   "source": [
    "# import libraries\n",
    "import numpy as np\n",
    "import math"
   ]
  },
  {
   "cell_type": "code",
   "execution_count": 61,
   "id": "d7cacac9",
   "metadata": {},
   "outputs": [
    {
     "data": {
      "text/plain": [
       "array([0.28814486, 0.55837353, 0.12575385, 0.07233149, 0.4828603 ,\n",
       "       0.41545843])"
      ]
     },
     "execution_count": 61,
     "metadata": {},
     "output_type": "execute_result"
    }
   ],
   "source": [
    "# simple implementation;\n",
    "n_inputs = 6\n",
    "\n",
    "X = np.random.rand(n_inputs)\n",
    "W = np.random.rand(n_inputs)\n",
    "W"
   ]
  },
  {
   "cell_type": "code",
   "execution_count": 62,
   "id": "69f6a6c1",
   "metadata": {},
   "outputs": [],
   "source": [
    "# modulate between 0 - 1 using the activation function\n",
    "def sigmoid(h):\n",
    "    return 1 / (1 + math.e**(-h))\n",
    "\n",
    "def activate(X, H):\n",
    "    h = np.dot(X,W)\n",
    "    y = sigmoid(h)\n",
    "    return y"
   ]
  },
  {
   "cell_type": "code",
   "execution_count": 63,
   "id": "a50fe052",
   "metadata": {},
   "outputs": [
    {
     "data": {
      "text/plain": [
       "0.7021221209776312"
      ]
     },
     "execution_count": 63,
     "metadata": {},
     "output_type": "execute_result"
    }
   ],
   "source": [
    "y = activate(X,W)\n",
    "y"
   ]
  },
  {
   "cell_type": "code",
   "execution_count": null,
   "id": "12b7710b",
   "metadata": {},
   "outputs": [],
   "source": []
  }
 ],
 "metadata": {
  "kernelspec": {
   "display_name": "Python 3 (ipykernel)",
   "language": "python",
   "name": "python3"
  },
  "language_info": {
   "codemirror_mode": {
    "name": "ipython",
    "version": 3
   },
   "file_extension": ".py",
   "mimetype": "text/x-python",
   "name": "python",
   "nbconvert_exporter": "python",
   "pygments_lexer": "ipython3",
   "version": "3.9.12"
  }
 },
 "nbformat": 4,
 "nbformat_minor": 5
}
