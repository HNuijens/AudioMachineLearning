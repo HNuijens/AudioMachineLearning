{
 "cells": [
  {
   "cell_type": "markdown",
   "id": "5944cda8",
   "metadata": {},
   "source": [
    "<h1 style = \"font-size:3rem;color:darkcyan\"> Music genre classication - preprocessing data </h1>\n"
   ]
  },
  {
   "cell_type": "code",
   "execution_count": 1,
   "id": "4e4097e3",
   "metadata": {},
   "outputs": [],
   "source": [
    "# importing libraries\n",
    "import numpy as np\n",
    "import pandas as pd\n",
    "import json\n",
    "import os\n",
    "import librosa\n",
    "import librosa.display"
   ]
  },
  {
   "cell_type": "code",
   "execution_count": 48,
   "id": "1585f5c9",
   "metadata": {},
   "outputs": [],
   "source": [
    "def preprocess_dataset(dataset_path, json_path, crop_duration, n_mfcc = 13, n_fft = 2048, hop_size = 1024, sample_rate=48000):\n",
    "    data  = {\n",
    "        'mappings' : [],  # corresponding genre\n",
    "        'labels' : [],    # corresponding number\n",
    "        'MFCC' : [],      # extracted mfcc\n",
    "        'filenames' : []  # original filenames\n",
    "     }\n",
    "    \n",
    "    n_samples_to_examine = sample_rate * crop_duration\n",
    "    n_folders = len(os.listdir(dataset_path))\n",
    "    \n",
    "    for i, (dirpath, dirnames, filenames) in enumerate(os.walk(root)):\n",
    "        if dirpath is not root:\n",
    "            print(f'processing folder {i} out of {n_folders}')\n",
    "            \n",
    "            category = dirpath.split(os.sep)[-1] # last index in list when split\n",
    "            data['mappings'].append(category)\n",
    "            \n",
    "            for file in filenames:\n",
    "                # load audio\n",
    "                file_path = os.path.join(dirpath + '/' + file)\n",
    "                audio_file, _ = librosa.load(file_path, sr = sample_rate, mono=True)\n",
    "               \n",
    "            # ignore or crop\n",
    "                if len(audio_file) >= n_samples_to_examine:\n",
    "            \n",
    "                    if len(audio_file) > n_samples_to_examine:\n",
    "                        audio_file = audio_file[:n_samples_to_examine]\n",
    "                    \n",
    "                    # extract mfccs\n",
    "                    mfcc = librosa.feature.mfcc(y = audio_file,\n",
    "                                                sr = sample_rate,\n",
    "                                                n_mfcc = n_mfcc,\n",
    "                                                n_fft = n_fft,\n",
    "                                                hop_length = hop_size)\n",
    "                    \n",
    "                    # store data\n",
    "                    data['labels'].append(i-1)\n",
    "                    data['MFCC'].append(mfcc.T.tolist()) \n",
    "                    data['filenames'].append(file)        \n",
    "                    \n",
    "    with open(json_path, 'w') as fp:\n",
    "        json.dump(data, fp, indent = 4)"
   ]
  },
  {
   "cell_type": "code",
   "execution_count": 49,
   "id": "b34fa70e",
   "metadata": {},
   "outputs": [
    {
     "name": "stdout",
     "output_type": "stream",
     "text": [
      "processing folder 1 out of 10\n",
      "processing folder 2 out of 10\n",
      "processing folder 3 out of 10\n",
      "processing folder 4 out of 10\n",
      "processing folder 5 out of 10\n",
      "processing folder 6 out of 10\n",
      "processing folder 7 out of 10\n",
      "processing folder 8 out of 10\n",
      "processing folder 9 out of 10\n",
      "processing folder 10 out of 10\n"
     ]
    }
   ],
   "source": [
    "root = '../../../Datasets/Music/Genres/archive/Data/genres_original'\n",
    "preprocess_dataset(root, 'data.json', crop_duration = 1)"
   ]
  },
  {
   "cell_type": "code",
   "execution_count": null,
   "id": "419a8f19",
   "metadata": {},
   "outputs": [],
   "source": []
  }
 ],
 "metadata": {
  "kernelspec": {
   "display_name": "Python 3 (ipykernel)",
   "language": "python",
   "name": "python3"
  },
  "language_info": {
   "codemirror_mode": {
    "name": "ipython",
    "version": 3
   },
   "file_extension": ".py",
   "mimetype": "text/x-python",
   "name": "python",
   "nbconvert_exporter": "python",
   "pygments_lexer": "ipython3",
   "version": "3.9.12"
  }
 },
 "nbformat": 4,
 "nbformat_minor": 5
}
