{
 "cells": [
  {
   "cell_type": "markdown",
   "id": "f1485b6a",
   "metadata": {},
   "source": [
    "<h1 style = \"font-size:3rem;color:darkcyan\"> Training a Neural Network using Back Propagation & Gradient Descent </h1>\n",
    "\n",
    "implementing backward propagation from scratch\n"
   ]
  },
  {
   "cell_type": "code",
   "execution_count": 8,
   "id": "30d47164",
   "metadata": {},
   "outputs": [],
   "source": [
    "# import libraries\n",
    "import numpy as np\n",
    "import math\n",
    "from random import random\n",
    "import matplotlib.pyplot as plt"
   ]
  },
  {
   "cell_type": "code",
   "execution_count": 304,
   "id": "8519b519",
   "metadata": {},
   "outputs": [],
   "source": [
    "class MLP:\n",
    "    \n",
    "    def __init__(self,n_inputs = 3, hidden_layer_sizes = [3,4], n_targets = 1):\n",
    "        self.n_inputs = n_inputs\n",
    "        self.hidden_layer_sizes = hidden_layer_sizes\n",
    "        self.n_targets = n_targets\n",
    "        \n",
    "        layers = [self.n_inputs] + self.hidden_layer_sizes + [self.n_targets]\n",
    "        print(layers)\n",
    "        \n",
    "        self.weights = [np.random.rand(layers[i], layers[i+1]) for i in range(len(layers)-1)]\n",
    "        self.biases = [np.random.rand(layers[i]) for i in range(1, len(layers))]\n",
    "        self.activations = [np.zeros(layers[i]) for i in range(len(layers))]\n",
    "        self.derivatives = [np.zeros((layers[i], layers[i+1])) for i in range(len(layers)-1)]\n",
    "        self.deltas = [np.zeros(layers[i]) for i in range(1, len(layers))]\n",
    "    \n",
    "        \n",
    "    def _sigmoid(self, net_inputs):\n",
    "        a = 1 / (1 + np.exp(-net_inputs))\n",
    "        return a\n",
    "    \n",
    "    def _sigmoid_dh(self, x):\n",
    "        da = x * (1.0 - x)\n",
    "        return da\n",
    "    \n",
    "    def _activate(self, inputs, W, b):\n",
    "        net_inputs = np.dot(inputs, W) + b # summation\n",
    "        activation = self._sigmoid(net_inputs) # modulation\n",
    "        return activation\n",
    "    \n",
    "    def _forward_propagate(self, inputs):\n",
    "        activations = inputs\n",
    "        self.activations[0] = activations\n",
    "        for i in range(len(self.weights)):\n",
    "            activations = self._activate(activations, self.weights[i], self.biases[i])\n",
    "            self.activations[i+1] = activations\n",
    "        return activations\n",
    "    \n",
    "    def _back_propagate(self, error, verbose=False):\n",
    "        # calculate error gradient\n",
    "        for i in reversed(range(len(self.derivatives))):\n",
    "            activations = self.activations[i+1]\n",
    "            delta = error * self._sigmoid_dh(activations)\n",
    "            self.deltas[i] = delta\n",
    "            delta_reshaped =  delta.reshape(delta.shape[0], -1).T\n",
    "            current_activations = self.activations[i]\n",
    "            current_activations_reshaped = current_activations.reshape(current_activations.shape[0], -1)\n",
    "            self.derivatives[i] = np.dot(current_activations_reshaped, delta_reshaped)\n",
    "            error = np.dot(delta, self.weights[i].T)\n",
    "            \n",
    "            if verbose:\n",
    "                print(f'Derivatives for W[{i}] = {self.derivatives[i]}')\n",
    "                \n",
    "        return error\n",
    "         \n",
    "    def _gradient_descent(self, learning_rate):\n",
    "        for i in range(len(self.weights)):\n",
    "            # print(f'Original weights = {self.weights[i]}')\n",
    "            self.weights[i] += self.derivatives[i] * learning_rate\n",
    "            self.biases[i] += self.deltas[i] * learning_rate\n",
    "            # print(f'Updated weights = {self.weights[i]}')\n",
    "    \n",
    "    def _mse(self, target, output):\n",
    "        return np.average((target - output)**2)\n",
    "    \n",
    "    def train_neural_network(self, inputs, targets, learning_rate, max_epochs):\n",
    "        if np.array(inputs).shape[1] != self.n_inputs:\n",
    "            print(\"Number of inputs does not match the input layer!\")\n",
    "            return None\n",
    "        \n",
    "        if np.array(targets).shape[1] != self.n_targets:\n",
    "            print(\"Number of targets does not match the output layer!\")\n",
    "            return None\n",
    "        \n",
    "        # repeat for max_epochs or when target error rate is achieved\n",
    "        for i in range(max_epochs):\n",
    "            sum_error = 0\n",
    "            for x,target in zip(inputs, targets):\n",
    "                # propagate forward\n",
    "                output = self._forward_propagate(x)\n",
    "\n",
    "                # calculate new error\n",
    "                error = target - output\n",
    "\n",
    "                # propagate backward\n",
    "                self._back_propagate(error)\n",
    "\n",
    "                # gradient descent\n",
    "                self._gradient_descent(learning_rate)\n",
    "\n",
    "                # calc sum error & print\n",
    "                sum_error += self._mse(target, output)\n",
    "            \n",
    "            # print error after each epoch\n",
    "            print(f'Error = {sum_error / len(inputs)} at epoch {i}')\n",
    "        \n",
    "        print(f'number of epochs exceeded ({i})')\n",
    "        return self._forward_propagate(inputs)"
   ]
  },
  {
   "cell_type": "code",
   "execution_count": 357,
   "id": "6ee99408",
   "metadata": {},
   "outputs": [
    {
     "name": "stdout",
     "output_type": "stream",
     "text": [
      "[2, 5, 1]\n"
     ]
    }
   ],
   "source": [
    "mlp = MLP(2, [5], 1)"
   ]
  },
  {
   "cell_type": "code",
   "execution_count": 367,
   "id": "c9d4edb4",
   "metadata": {},
   "outputs": [],
   "source": [
    "learning_rate = 0.1\n",
    "epochs = 50\n",
    "\n",
    "# train model to add inputs\n",
    "inputs = np.array([[random() / 2 for _ in range(2)] for _ in range(1000)])\n",
    "targets = np.array([[i[0] + i[1]] for i in inputs])"
   ]
  },
  {
   "cell_type": "code",
   "execution_count": 368,
   "id": "ec4bb467",
   "metadata": {},
   "outputs": [
    {
     "name": "stdout",
     "output_type": "stream",
     "text": [
      "0.32619446392163065 + 0.23212592851060904  = [0.55832039]\n"
     ]
    }
   ],
   "source": [
    "print(f'{inputs[0, 0]} + {inputs[0 , 1]}  = {targets[0]}')"
   ]
  },
  {
   "cell_type": "code",
   "execution_count": 369,
   "id": "e02656d8",
   "metadata": {},
   "outputs": [
    {
     "name": "stdout",
     "output_type": "stream",
     "text": [
      "Error = 0.05171888505665107 at epoch 0\n",
      "Error = 0.03894116219040344 at epoch 1\n",
      "Error = 0.03772762316695088 at epoch 2\n",
      "Error = 0.03631905090784068 at epoch 3\n",
      "Error = 0.03465396246399056 at epoch 4\n",
      "Error = 0.032676551102675394 at epoch 5\n",
      "Error = 0.030346443873395 at epoch 6\n",
      "Error = 0.027654156510842406 at epoch 7\n",
      "Error = 0.024638746603844252 at epoch 8\n",
      "Error = 0.02139905664664055 at epoch 9\n",
      "Error = 0.018087670971122283 at epoch 10\n",
      "Error = 0.014882900052711735 at epoch 11\n",
      "Error = 0.011947765965489507 at epoch 12\n",
      "Error = 0.009394956737604676 at epoch 13\n",
      "Error = 0.00727275166303661 at epoch 14\n",
      "Error = 0.005572864051039887 at epoch 15\n",
      "Error = 0.004250141581570312 at epoch 16\n",
      "Error = 0.0032428946020088456 at epoch 17\n",
      "Error = 0.002487671090939929 at epoch 18\n",
      "Error = 0.001927454382328384 at epoch 19\n",
      "Error = 0.001514862394469606 at epoch 20\n",
      "Error = 0.0012123914220444594 at epoch 21\n",
      "Error = 0.0009912709573105605 at epoch 22\n",
      "Error = 0.0008298733328577619 at epoch 23\n",
      "Error = 0.0007121522243968805 at epoch 24\n",
      "Error = 0.0006263014208628035 at epoch 25\n",
      "Error = 0.0005636793322169425 at epoch 26\n",
      "Error = 0.0005179800723499746 at epoch 27\n",
      "Error = 0.00048460975654642294 at epoch 28\n",
      "Error = 0.0004602241428144842 at epoch 29\n",
      "Error = 0.00044238902203655006 at epoch 30\n",
      "Error = 0.0004293321563244808 at epoch 31\n",
      "Error = 0.00041976266786868636 at epoch 32\n",
      "Error = 0.0004127397562243033 at epoch 33\n",
      "Error = 0.0004075773338708981 at epoch 34\n",
      "Error = 0.00040377475354570004 at epoch 35\n",
      "Error = 0.00040096646883204214 at epoch 36\n",
      "Error = 0.00039888543025598506 at epoch 37\n",
      "Error = 0.0003973364490178729 at epoch 38\n",
      "Error = 0.0003961767985290781 at epoch 39\n",
      "Error = 0.00039530207572132 at epoch 40\n",
      "Error = 0.0003946358880381746 at epoch 41\n",
      "Error = 0.0003941223255326488 at epoch 42\n",
      "Error = 0.0003937204623138176 at epoch 43\n",
      "Error = 0.00039340033789924897 at epoch 44\n",
      "Error = 0.00039314001862599614 at epoch 45\n",
      "Error = 0.0003929234478612426 at epoch 46\n",
      "Error = 0.0003927388726623515 at epoch 47\n",
      "Error = 0.0003925776919390815 at epoch 48\n",
      "Error = 0.0003924336129717537 at epoch 49\n",
      "number of epochs exceeded (49)\n"
     ]
    }
   ],
   "source": [
    "out = mlp.train_neural_network(inputs, targets, learning_rate, epochs)"
   ]
  },
  {
   "cell_type": "code",
   "execution_count": 330,
   "id": "a81b714a",
   "metadata": {},
   "outputs": [
    {
     "data": {
      "text/plain": [
       "[<matplotlib.lines.Line2D at 0x1eb2f405580>]"
      ]
     },
     "execution_count": 330,
     "metadata": {},
     "output_type": "execute_result"
    },
    {
     "data": {
      "image/png": "[encoded data removed]",
      "text/plain": [
       "<Figure size 1080x360 with 3 Axes>"
      ]
     },
     "metadata": {
      "needs_background": "light"
     },
     "output_type": "display_data"
    }
   ],
   "source": [
    "plt.figure(figsize = (15,5))\n",
    "plt.subplot(1,3,1)\n",
    "plt.title('Target Data')\n",
    "plt.ylim([0,1])\n",
    "plt.plot(targets)\n",
    "plt.subplot(1,3,2)\n",
    "plt.ylim([0,1])\n",
    "plt.title('Output Data')\n",
    "plt.plot(out)\n",
    "plt.subplot(1,3,3)\n",
    "plt.title('Error')\n",
    "plt.plot(targets - out)"
   ]
  },
  {
   "cell_type": "code",
   "execution_count": 331,
   "id": "84ec3c06",
   "metadata": {},
   "outputs": [
    {
     "name": "stdout",
     "output_type": "stream",
     "text": [
      "1.3873571704807504e-05\n"
     ]
    }
   ],
   "source": [
    "total_error = np.average(targets - out)**2\n",
    "print(total_error)"
   ]
  },
  {
   "cell_type": "code",
   "execution_count": 356,
   "id": "360a8e82",
   "metadata": {},
   "outputs": [
    {
     "name": "stdout",
     "output_type": "stream",
     "text": [
      "Actual value: 0.5, predicted value: [0.5004501]\n",
      "Error = [-0.0004501]\n"
     ]
    }
   ],
   "source": [
    "# predict data\n",
    "inputs = [0.4, 0.1]\n",
    "output = inputs[0] + inputs[1]\n",
    "y_pred = mlp._forward_propagate(inputs)\n",
    "print(f'Actual value: {output}, predicted value: {y_pred}')\n",
    "print(f'Error = {output - y_pred}')"
   ]
  },
  {
   "cell_type": "code",
   "execution_count": null,
   "id": "5de281e9",
   "metadata": {},
   "outputs": [],
   "source": []
  },
  {
   "cell_type": "code",
   "execution_count": null,
   "id": "dda9bd58",
   "metadata": {},
   "outputs": [],
   "source": []
  }
 ],
 "metadata": {
  "kernelspec": {
   "display_name": "Python 3 (ipykernel)",
   "language": "python",
   "name": "python3"
  },
  "language_info": {
   "codemirror_mode": {
    "name": "ipython",
    "version": 3
   },
   "file_extension": ".py",
   "mimetype": "text/x-python",
   "name": "python",
   "nbconvert_exporter": "python",
   "pygments_lexer": "ipython3",
   "version": "3.9.12"
  }
 },
 "nbformat": 4,
 "nbformat_minor": 5
}
