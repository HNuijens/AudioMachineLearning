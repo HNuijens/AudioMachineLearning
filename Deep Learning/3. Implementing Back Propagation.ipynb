{
 "cells": [
  {
   "cell_type": "markdown",
   "id": "f1485b6a",
   "metadata": {},
   "source": [
    "<h1 style = \"font-size:3rem;color:darkcyan\"> Training a Neural Network </h1>\n",
    "\n",
    "implementing backward propagation from scratch\n"
   ]
  },
  {
   "cell_type": "code",
   "execution_count": 8,
   "id": "30d47164",
   "metadata": {},
   "outputs": [],
   "source": [
    "# import libraries\n",
    "import numpy as np\n",
    "import math\n",
    "from random import random\n",
    "import matplotlib.pyplot as plt"
   ]
  },
  {
   "cell_type": "code",
   "execution_count": 304,
   "id": "8519b519",
   "metadata": {},
   "outputs": [],
   "source": [
    "class MLP:\n",
    "    \n",
    "    def __init__(self,n_inputs = 3, hidden_layer_sizes = [3,4], n_targets = 1):\n",
    "        self.n_inputs = n_inputs\n",
    "        self.hidden_layer_sizes = hidden_layer_sizes\n",
    "        self.n_targets = n_targets\n",
    "        \n",
    "        layers = [self.n_inputs] + self.hidden_layer_sizes + [self.n_targets]\n",
    "        print(layers)\n",
    "        \n",
    "        self.weights = [np.random.rand(layers[i], layers[i+1]) for i in range(len(layers)-1)]\n",
    "        self.biases = [np.random.rand(layers[i]) for i in range(1, len(layers))]\n",
    "        self.activations = [np.zeros(layers[i]) for i in range(len(layers))]\n",
    "        self.derivatives = [np.zeros((layers[i], layers[i+1])) for i in range(len(layers)-1)]\n",
    "        self.deltas = [np.zeros(layers[i]) for i in range(1, len(layers))]\n",
    "    \n",
    "        \n",
    "    def _sigmoid(self, net_inputs):\n",
    "        a = 1 / (1 + np.exp(-net_inputs))\n",
    "        return a\n",
    "    \n",
    "    def _sigmoid_dh(self, x):\n",
    "        da = x * (1.0 - x)\n",
    "        return da\n",
    "    \n",
    "    def _activate(self, inputs, W, b):\n",
    "        net_inputs = np.dot(inputs, W) + b # summation\n",
    "        activation = self._sigmoid(net_inputs) # modulation\n",
    "        return activation\n",
    "    \n",
    "    def _forward_propagate(self, inputs):\n",
    "        activations = inputs\n",
    "        self.activations[0] = activations\n",
    "        for i in range(len(self.weights)):\n",
    "            activations = self._activate(activations, self.weights[i], self.biases[i])\n",
    "            self.activations[i+1] = activations\n",
    "        return activations\n",
    "    \n",
    "    def _back_propagate(self, error, verbose=False):\n",
    "        # calculate error gradient\n",
    "        for i in reversed(range(len(self.derivatives))):\n",
    "            activations = self.activations[i+1]\n",
    "            delta = error * self._sigmoid_dh(activations)\n",
    "            self.deltas[i] = delta\n",
    "            delta_reshaped =  delta.reshape(delta.shape[0], -1).T\n",
    "            current_activations = self.activations[i]\n",
    "            current_activations_reshaped = current_activations.reshape(current_activations.shape[0], -1)\n",
    "            self.derivatives[i] = np.dot(current_activations_reshaped, delta_reshaped)\n",
    "            error = np.dot(delta, self.weights[i].T)\n",
    "            \n",
    "            if verbose:\n",
    "                print(f'Derivatives for W[{i}] = {self.derivatives[i]}')\n",
    "                \n",
    "        return error\n",
    "         \n",
    "    def _gradient_descent(self, learning_rate):\n",
    "        for i in range(len(self.weights)):\n",
    "            # print(f'Original weights = {self.weights[i]}')\n",
    "            self.weights[i] += self.derivatives[i] * learning_rate\n",
    "            self.biases[i] += self.deltas[i] * learning_rate\n",
    "            # print(f'Updated weights = {self.weights[i]}')\n",
    "    \n",
    "    def _mse(self, target, output):\n",
    "        return np.average((target - output)**2)\n",
    "    \n",
    "    def train_neural_network(self, inputs, targets, learning_rate, max_epochs):\n",
    "        if np.array(inputs).shape[1] != self.n_inputs:\n",
    "            print(\"Number of inputs does not match the input layer!\")\n",
    "            return None\n",
    "        \n",
    "        if np.array(targets).shape[1] != self.n_targets:\n",
    "            print(\"Number of targets does not match the output layer!\")\n",
    "            return None\n",
    "        \n",
    "        # repeat for max_epochs or when target error rate is achieved\n",
    "        for i in range(max_epochs):\n",
    "            sum_error = 0\n",
    "            for x,target in zip(inputs, targets):\n",
    "                # propagate forward\n",
    "                output = self._forward_propagate(x)\n",
    "\n",
    "                # calculate new error\n",
    "                error = target - output\n",
    "\n",
    "                # propagate backward\n",
    "                self._back_propagate(error)\n",
    "\n",
    "                # gradient descent\n",
    "                self._gradient_descent(learning_rate)\n",
    "\n",
    "                # calc sum error & print\n",
    "                sum_error += self._mse(target, output)\n",
    "            \n",
    "            # print error after each epoch\n",
    "            print(f'Error = {sum_error / len(inputs)} at epoch {i}')\n",
    "        \n",
    "        print(f'number of epochs exceeded ({i})')\n",
    "        return self._forward_propagate(inputs)"
   ]
  },
  {
   "cell_type": "code",
   "execution_count": 305,
   "id": "6ee99408",
   "metadata": {},
   "outputs": [
    {
     "name": "stdout",
     "output_type": "stream",
     "text": [
      "[2, 5, 1]\n"
     ]
    }
   ],
   "source": [
    "mlp = MLP(2, [5], 1)"
   ]
  },
  {
   "cell_type": "code",
   "execution_count": 306,
   "id": "c9d4edb4",
   "metadata": {},
   "outputs": [],
   "source": [
    "learning_rate = 0.1\n",
    "epochs = 50\n",
    "\n",
    "# train model to add inputs\n",
    "inputs = np.array([[random() / 2 for _ in range(2)] for _ in range(1000)])\n",
    "targets = np.array([[i[0] + i[1]] for i in inputs])"
   ]
  },
  {
   "cell_type": "code",
   "execution_count": 307,
   "id": "ec4bb467",
   "metadata": {},
   "outputs": [
    {
     "name": "stdout",
     "output_type": "stream",
     "text": [
      "0.2939984601188065 + 0.3130943325083805  = [0.60709279]\n"
     ]
    }
   ],
   "source": [
    "print(f'{inputs[0, 0]} + {inputs[0 , 1]}  = {targets[0]}')"
   ]
  },
  {
   "cell_type": "code",
   "execution_count": 308,
   "id": "e02656d8",
   "metadata": {},
   "outputs": [
    {
     "name": "stdout",
     "output_type": "stream",
     "text": [
      "Error = 0.059404178432357194 at epoch 0\n",
      "Error = 0.040323452268512985 at epoch 1\n",
      "Error = 0.03962074307132282 at epoch 2\n",
      "Error = 0.038854035710981505 at epoch 3\n",
      "Error = 0.0379851708500542 at epoch 4\n",
      "Error = 0.03697201668882706 at epoch 5\n",
      "Error = 0.03576705210033839 at epoch 6\n",
      "Error = 0.03431785410169446 at epoch 7\n",
      "Error = 0.03257125895436134 at epoch 8\n",
      "Error = 0.030483345521719156 at epoch 9\n",
      "Error = 0.028035931416211184 at epoch 10\n",
      "Error = 0.025255639981829062 at epoch 11\n",
      "Error = 0.02222574157088638 at epoch 12\n",
      "Error = 0.019080508500250448 at epoch 13\n",
      "Error = 0.015980562492551642 at epoch 14\n",
      "Error = 0.013078870854224184 at epoch 15\n",
      "Error = 0.010491268674402202 at epoch 16\n",
      "Error = 0.008281421928141706 at epoch 17\n",
      "Error = 0.006462223350536917 at epoch 18\n",
      "Error = 0.005008523961585989 at epoch 19\n",
      "Error = 0.0038734458548590218 at epoch 20\n",
      "Error = 0.003002378180006136 at epoch 21\n",
      "Error = 0.0023422679357092743 at epoch 22\n",
      "Error = 0.00184644159868594 at epoch 23\n",
      "Error = 0.0014762702903878936 at epoch 24\n",
      "Error = 0.001201023018519246 at epoch 25\n",
      "Error = 0.000996883709212703 at epoch 26\n",
      "Error = 0.000845714672879708 at epoch 27\n",
      "Error = 0.0007338622739822633 at epoch 28\n",
      "Error = 0.0006511267742326855 at epoch 29\n",
      "Error = 0.000589926294780922 at epoch 30\n",
      "Error = 0.0005446424470226147 at epoch 31\n",
      "Error = 0.0005111195945024894 at epoch 32\n",
      "Error = 0.00048628715568191166 at epoch 33\n",
      "Error = 0.00046787733103153563 at epoch 34\n",
      "Error = 0.00045421537774882164 at epoch 35\n",
      "Error = 0.0004440643500452678 at epoch 36\n",
      "Error = 0.0004365104051141838 at epoch 37\n",
      "Error = 0.00043087817224432415 at epoch 38\n",
      "Error = 0.00042666833500441765 at epoch 39\n",
      "Error = 0.00042351159867331004 at epoch 40\n",
      "Error = 0.00042113473432657663 at epoch 41\n",
      "Error = 0.0004193355218677803 at epoch 42\n",
      "Error = 0.0004179642513034562 at epoch 43\n",
      "Error = 0.00041691005896499846 at epoch 44\n",
      "Error = 0.00041609082993985185 at epoch 45\n",
      "Error = 0.0004154457323472857 at epoch 46\n",
      "Error = 0.00041492969500522045 at epoch 47\n",
      "Error = 0.0004145093209253915 at epoch 48\n",
      "Error = 0.00041415986219893995 at epoch 49\n",
      "number of epochs exceeded (49)\n"
     ]
    }
   ],
   "source": [
    "out = mlp.train_neural_network(inputs, targets, learning_rate, epochs)"
   ]
  },
  {
   "cell_type": "code",
   "execution_count": 309,
   "id": "8071d7c9",
   "metadata": {},
   "outputs": [
    {
     "name": "stdout",
     "output_type": "stream",
     "text": [
      "[array([ 1.1786079 ,  0.88602228, -1.6213292 , -0.83213841, -0.43964768]), array([-2.46343768])]\n"
     ]
    }
   ],
   "source": [
    "print(biases)"
   ]
  },
  {
   "cell_type": "code",
   "execution_count": 314,
   "id": "a81b714a",
   "metadata": {},
   "outputs": [
    {
     "data": {
      "text/plain": [
       "[<matplotlib.lines.Line2D at 0x1eb2c632bb0>]"
      ]
     },
     "execution_count": 314,
     "metadata": {},
     "output_type": "execute_result"
    },
    {
     "data": {
      "image/png": "[encoded data removed]",
      "text/plain": [
       "<Figure size 1080x360 with 3 Axes>"
      ]
     },
     "metadata": {
      "needs_background": "light"
     },
     "output_type": "display_data"
    }
   ],
   "source": [
    "plt.figure(figsize = (15,5))\n",
    "plt.subplot(1,3,1)\n",
    "plt.title('Target Data')\n",
    "plt.ylim([0,1])\n",
    "plt.plot(targets)\n",
    "plt.subplot(1,3,2)\n",
    "plt.ylim([0,1])\n",
    "plt.title('Output Data')\n",
    "plt.plot(out)\n",
    "plt.subplot(1,3,3)\n",
    "plt.title('Error')\n",
    "plt.plot(targets - out)"
   ]
  },
  {
   "cell_type": "code",
   "execution_count": 315,
   "id": "84ec3c06",
   "metadata": {},
   "outputs": [
    {
     "name": "stdout",
     "output_type": "stream",
     "text": [
      "7.020530656442119e-07\n"
     ]
    }
   ],
   "source": [
    "total_error = np.average(targets - out)**2\n",
    "print(total_error)"
   ]
  },
  {
   "cell_type": "code",
   "execution_count": 312,
   "id": "360a8e82",
   "metadata": {},
   "outputs": [
    {
     "name": "stdout",
     "output_type": "stream",
     "text": [
      "Actual value: 0.5, predicted value: [0.50106403]\n",
      "Error = [-0.00106403]\n"
     ]
    }
   ],
   "source": [
    "# predict data\n",
    "inputs = [0.4, 0.1]\n",
    "output = inputs[0] + inputs[1]\n",
    "y_pred = mlp._forward_propagate(inputs)\n",
    "print(f'Actual value: {output}, predicted value: {y_pred}')\n",
    "print(f'Error = {output - y_pred}')"
   ]
  },
  {
   "cell_type": "code",
   "execution_count": null,
   "id": "5de281e9",
   "metadata": {},
   "outputs": [],
   "source": []
  },
  {
   "cell_type": "code",
   "execution_count": null,
   "id": "dda9bd58",
   "metadata": {},
   "outputs": [],
   "source": []
  }
 ],
 "metadata": {
  "kernelspec": {
   "display_name": "Python 3 (ipykernel)",
   "language": "python",
   "name": "python3"
  },
  "language_info": {
   "codemirror_mode": {
    "name": "ipython",
    "version": 3
   },
   "file_extension": ".py",
   "mimetype": "text/x-python",
   "name": "python",
   "nbconvert_exporter": "python",
   "pygments_lexer": "ipython3",
   "version": "3.9.12"
  }
 },
 "nbformat": 4,
 "nbformat_minor": 5
}
