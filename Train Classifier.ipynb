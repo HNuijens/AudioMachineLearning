{
 "cells": [
  {
   "cell_type": "markdown",
   "id": "2a8575ae",
   "metadata": {},
   "source": [
    "<h1 style = \"font-size:3rem;color:DarkCyan\">Train Classifier Model</h1>"
   ]
  },
  {
   "cell_type": "code",
   "execution_count": 3,
   "id": "84772c69",
   "metadata": {},
   "outputs": [],
   "source": [
    "# import libraries\n",
    "import numpy as np\n",
    "import matplotlib.pyplot as plt\n",
    "import pandas as pd # for data importing\n",
    "import sklearn # for training the model"
   ]
  },
  {
   "cell_type": "code",
   "execution_count": 67,
   "id": "f9dc0b49",
   "metadata": {},
   "outputs": [
    {
     "data": {
      "text/html": [
       "<div>\n",
       "<style scoped>\n",
       "    .dataframe tbody tr th:only-of-type {\n",
       "        vertical-align: middle;\n",
       "    }\n",
       "\n",
       "    .dataframe tbody tr th {\n",
       "        vertical-align: top;\n",
       "    }\n",
       "\n",
       "    .dataframe thead th {\n",
       "        text-align: right;\n",
       "    }\n",
       "</style>\n",
       "<table border=\"1\" class=\"dataframe\">\n",
       "  <thead>\n",
       "    <tr style=\"text-align: right;\">\n",
       "      <th></th>\n",
       "      <th>Unnamed: 0</th>\n",
       "      <th>sc</th>\n",
       "      <th>bw</th>\n",
       "      <th>zcr</th>\n",
       "      <th>label</th>\n",
       "      <th>filename</th>\n",
       "    </tr>\n",
       "  </thead>\n",
       "  <tbody>\n",
       "    <tr>\n",
       "      <th>0</th>\n",
       "      <td>0</td>\n",
       "      <td>1.798824</td>\n",
       "      <td>0.348337</td>\n",
       "      <td>2.359166</td>\n",
       "      <td>0.0</td>\n",
       "      <td>clap00.wav</td>\n",
       "    </tr>\n",
       "    <tr>\n",
       "      <th>1</th>\n",
       "      <td>1</td>\n",
       "      <td>1.596986</td>\n",
       "      <td>1.284540</td>\n",
       "      <td>1.448470</td>\n",
       "      <td>0.0</td>\n",
       "      <td>clap01.wav</td>\n",
       "    </tr>\n",
       "    <tr>\n",
       "      <th>2</th>\n",
       "      <td>2</td>\n",
       "      <td>1.241764</td>\n",
       "      <td>0.983856</td>\n",
       "      <td>1.530512</td>\n",
       "      <td>0.0</td>\n",
       "      <td>clap02.wav</td>\n",
       "    </tr>\n",
       "    <tr>\n",
       "      <th>3</th>\n",
       "      <td>3</td>\n",
       "      <td>1.920064</td>\n",
       "      <td>0.897504</td>\n",
       "      <td>2.719303</td>\n",
       "      <td>0.0</td>\n",
       "      <td>clap03.wav</td>\n",
       "    </tr>\n",
       "    <tr>\n",
       "      <th>4</th>\n",
       "      <td>4</td>\n",
       "      <td>0.262470</td>\n",
       "      <td>-0.249038</td>\n",
       "      <td>0.490405</td>\n",
       "      <td>0.0</td>\n",
       "      <td>clap04.wav</td>\n",
       "    </tr>\n",
       "    <tr>\n",
       "      <th>...</th>\n",
       "      <td>...</td>\n",
       "      <td>...</td>\n",
       "      <td>...</td>\n",
       "      <td>...</td>\n",
       "      <td>...</td>\n",
       "      <td>...</td>\n",
       "    </tr>\n",
       "    <tr>\n",
       "      <th>162</th>\n",
       "      <td>162</td>\n",
       "      <td>1.102880</td>\n",
       "      <td>0.973459</td>\n",
       "      <td>1.413513</td>\n",
       "      <td>3.0</td>\n",
       "      <td>snare_37.wav</td>\n",
       "    </tr>\n",
       "    <tr>\n",
       "      <th>163</th>\n",
       "      <td>163</td>\n",
       "      <td>0.735877</td>\n",
       "      <td>0.711162</td>\n",
       "      <td>0.905417</td>\n",
       "      <td>3.0</td>\n",
       "      <td>snare_38.wav</td>\n",
       "    </tr>\n",
       "    <tr>\n",
       "      <th>164</th>\n",
       "      <td>164</td>\n",
       "      <td>0.745683</td>\n",
       "      <td>0.924489</td>\n",
       "      <td>0.223181</td>\n",
       "      <td>3.0</td>\n",
       "      <td>snare_39.wav</td>\n",
       "    </tr>\n",
       "    <tr>\n",
       "      <th>165</th>\n",
       "      <td>165</td>\n",
       "      <td>1.014002</td>\n",
       "      <td>1.034636</td>\n",
       "      <td>0.660124</td>\n",
       "      <td>3.0</td>\n",
       "      <td>snare_40.wav</td>\n",
       "    </tr>\n",
       "    <tr>\n",
       "      <th>166</th>\n",
       "      <td>166</td>\n",
       "      <td>1.146861</td>\n",
       "      <td>0.981577</td>\n",
       "      <td>1.306093</td>\n",
       "      <td>3.0</td>\n",
       "      <td>snare_41.wav</td>\n",
       "    </tr>\n",
       "  </tbody>\n",
       "</table>\n",
       "<p>167 rows × 6 columns</p>\n",
       "</div>"
      ],
      "text/plain": [
       "     Unnamed: 0        sc        bw       zcr  label      filename\n",
       "0             0  1.798824  0.348337  2.359166    0.0    clap00.wav\n",
       "1             1  1.596986  1.284540  1.448470    0.0    clap01.wav\n",
       "2             2  1.241764  0.983856  1.530512    0.0    clap02.wav\n",
       "3             3  1.920064  0.897504  2.719303    0.0    clap03.wav\n",
       "4             4  0.262470 -0.249038  0.490405    0.0    clap04.wav\n",
       "..          ...       ...       ...       ...    ...           ...\n",
       "162         162  1.102880  0.973459  1.413513    3.0  snare_37.wav\n",
       "163         163  0.735877  0.711162  0.905417    3.0  snare_38.wav\n",
       "164         164  0.745683  0.924489  0.223181    3.0  snare_39.wav\n",
       "165         165  1.014002  1.034636  0.660124    3.0  snare_40.wav\n",
       "166         166  1.146861  0.981577  1.306093    3.0  snare_41.wav\n",
       "\n",
       "[167 rows x 6 columns]"
      ]
     },
     "execution_count": 67,
     "metadata": {},
     "output_type": "execute_result"
    }
   ],
   "source": [
    "# import the dataset (extracted features) saved in a .csv\n",
    "dataset = pd.read_csv(r'dataset.csv')\n",
    "dataset"
   ]
  },
  {
   "cell_type": "code",
   "execution_count": 111,
   "id": "d643d46d",
   "metadata": {},
   "outputs": [],
   "source": [
    "labels = np.array(dataset.label)\n",
    "features = np.array([dataset.sc,dataset.bw,dataset.zcr]).T\n",
    "classes = ['clap','cymbal','kick','snare'] #list of text labels to conver numberical labels to text labels"
   ]
  },
  {
   "cell_type": "markdown",
   "id": "94501e4d",
   "metadata": {},
   "source": [
    "<h2 style = \"font-size:2rem;color:DarkCyan\"> Splitting dataset into training and test data</h2>"
   ]
  },
  {
   "cell_type": "code",
   "execution_count": 99,
   "id": "1ffc2d76",
   "metadata": {},
   "outputs": [
    {
     "name": "stdout",
     "output_type": "stream",
     "text": [
      "(167, 3)\n",
      "(100, 3)\n",
      "(67, 3)\n"
     ]
    }
   ],
   "source": [
    "# split dataset using skylearn \n",
    "#Importing the tool, alternatively you can call sklearn.model_selection.train_test_split(..,..,..,)\n",
    "from sklearn.model_selection import train_test_split\n",
    "\n",
    "#splitting the dataset in training and testing parts - using 70 - 30 split\n",
    "feat_train, feat_test, lab_train, lab_test = train_test_split(features, labels, test_size=0.4, random_state=14)\n",
    "print(features.shape)\n",
    "print(feat_train.shape)\n",
    "print(feat_test.shape)"
   ]
  },
  {
   "cell_type": "markdown",
   "id": "926d6eb5",
   "metadata": {},
   "source": [
    "<h2 style = \"font-size:2rem;color:DarkCyan\"> Creating Gaussian Naive Bayes classifier</h2>"
   ]
  },
  {
   "cell_type": "code",
   "execution_count": 100,
   "id": "c18fc6a4",
   "metadata": {},
   "outputs": [],
   "source": [
    "from sklearn.naive_bayes import GaussianNB\n",
    "\n",
    "model_GNB = GaussianNB()"
   ]
  },
  {
   "cell_type": "markdown",
   "id": "acf55dea",
   "metadata": {},
   "source": [
    "<h2 style = \"font-size:2rem;color:DarkCyan\"> Train classifier</h2>"
   ]
  },
  {
   "cell_type": "code",
   "execution_count": 101,
   "id": "04d25452",
   "metadata": {},
   "outputs": [
    {
     "data": {
      "text/plain": [
       "GaussianNB()"
      ]
     },
     "execution_count": 101,
     "metadata": {},
     "output_type": "execute_result"
    }
   ],
   "source": [
    "model_GNB.fit(feat_train, lab_train)"
   ]
  },
  {
   "cell_type": "markdown",
   "id": "afa95253",
   "metadata": {},
   "source": [
    "<h2 style = \"font-size:2rem;color:DarkCyan\"> Test classifier</h2>"
   ]
  },
  {
   "cell_type": "code",
   "execution_count": 102,
   "id": "44fd807d",
   "metadata": {},
   "outputs": [
    {
     "name": "stdout",
     "output_type": "stream",
     "text": [
      "Number of mislabeled samples 30 out of 67\n",
      "Accuracy: 0.5522388059701493\n"
     ]
    }
   ],
   "source": [
    "lab_predict =  model_GNB.predict(feat_test)\n",
    "\n",
    "#print the number of misclassified samples, accuracy and complete report (using scikit learn metric tools) \n",
    "print('Number of mislabeled samples %d out of %d' % ((lab_test != lab_predict).sum(),lab_test.size))\n",
    "print('Accuracy:',sklearn.metrics.accuracy_score(lab_test, lab_predict))"
   ]
  },
  {
   "cell_type": "markdown",
   "id": "42a1bb76",
   "metadata": {},
   "source": [
    "<h2 style = \"font-size:2rem;color:DarkCyan\"> Performance Metrics</h2>"
   ]
  },
  {
   "cell_type": "code",
   "execution_count": 103,
   "id": "40f66a37",
   "metadata": {},
   "outputs": [
    {
     "name": "stdout",
     "output_type": "stream",
     "text": [
      "              precision    recall  f1-score   support\n",
      "\n",
      "         0.0       0.00      0.00      0.00        20\n",
      "         1.0       0.43      0.60      0.50        15\n",
      "         2.0       0.84      1.00      0.91        16\n",
      "         3.0       0.44      0.75      0.56        16\n",
      "\n",
      "    accuracy                           0.55        67\n",
      "   macro avg       0.43      0.59      0.49        67\n",
      "weighted avg       0.40      0.55      0.46        67\n",
      "\n",
      "[[ 0  8  3  9]\n",
      " [ 0  9  0  6]\n",
      " [ 0  0 16  0]\n",
      " [ 0  4  0 12]]\n",
      "\n",
      "Kappa score =  0.4153577661431066\n"
     ]
    },
    {
     "name": "stderr",
     "output_type": "stream",
     "text": [
      "C:\\Users\\helme\\anaconda3\\lib\\site-packages\\sklearn\\metrics\\_classification.py:1318: UndefinedMetricWarning: Precision and F-score are ill-defined and being set to 0.0 in labels with no predicted samples. Use `zero_division` parameter to control this behavior.\n",
      "  _warn_prf(average, modifier, msg_start, len(result))\n",
      "C:\\Users\\helme\\anaconda3\\lib\\site-packages\\sklearn\\metrics\\_classification.py:1318: UndefinedMetricWarning: Precision and F-score are ill-defined and being set to 0.0 in labels with no predicted samples. Use `zero_division` parameter to control this behavior.\n",
      "  _warn_prf(average, modifier, msg_start, len(result))\n",
      "C:\\Users\\helme\\anaconda3\\lib\\site-packages\\sklearn\\metrics\\_classification.py:1318: UndefinedMetricWarning: Precision and F-score are ill-defined and being set to 0.0 in labels with no predicted samples. Use `zero_division` parameter to control this behavior.\n",
      "  _warn_prf(average, modifier, msg_start, len(result))\n"
     ]
    }
   ],
   "source": [
    "#computing a comprehensive set of performance metrics\n",
    "print(sklearn.metrics.classification_report(lab_test, lab_predict))\n",
    "\n",
    "print(sklearn.metrics.confusion_matrix(lab_test, lab_predict))\n",
    "\n",
    "print(\"\\nKappa score = \", sklearn.metrics.cohen_kappa_score(lab_test, lab_predict))"
   ]
  },
  {
   "cell_type": "code",
   "execution_count": 108,
   "id": "f8f2269d",
   "metadata": {},
   "outputs": [
    {
     "name": "stdout",
     "output_type": "stream",
     "text": [
      "clap02.wav\n",
      "clap07.wav\n",
      "clap09.wav\n",
      "clap10.wav\n",
      "clap11.wav\n",
      "clap14.wav\n",
      "clap17.wav\n",
      "clap18.wav\n",
      "clap20.wav\n",
      "clap21.wav\n",
      "clap23.wav\n",
      "clap25.wav\n",
      "clap26.wav\n",
      "clap27.wav\n",
      "clap28.wav\n",
      "clap30.wav\n",
      "clap37.wav\n",
      "clap39.wav\n",
      "clap40.wav\n",
      "cymbal03.wav\n",
      "cymbal04.wav\n",
      "cymbal05.wav\n",
      "cymbal06.wav\n",
      "cymbal08.wav\n",
      "cymbal11.wav\n",
      "cymbal18.wav\n",
      "cymbal19.wav\n",
      "cymbal20.wav\n",
      "cymbal23.wav\n",
      "cymbal24.wav\n"
     ]
    }
   ],
   "source": [
    "#displaying names of misclassified files\n",
    "results = lab_test == lab_predict\n",
    "\n",
    "for idx in range(0,len(results)):\n",
    "    if results[idx] == False:\n",
    "        print(dataset.filename[idx])"
   ]
  },
  {
   "cell_type": "code",
   "execution_count": 109,
   "id": "f22e61d4",
   "metadata": {},
   "outputs": [
    {
     "ename": "SyntaxError",
     "evalue": "invalid syntax (3177184674.py, line 1)",
     "output_type": "error",
     "traceback": [
      "\u001b[1;36m  Input \u001b[1;32mIn [109]\u001b[1;36m\u001b[0m\n\u001b[1;33m    <h2 style = \"font-size:2rem;color:DarkCyan\"> Visualizing Performance Matrix</h2>\u001b[0m\n\u001b[1;37m    ^\u001b[0m\n\u001b[1;31mSyntaxError\u001b[0m\u001b[1;31m:\u001b[0m invalid syntax\n"
     ]
    }
   ],
   "source": [
    "<h2 style = \"font-size:2rem;color:DarkCyan\"> Visualizing Performance Matrix</h2>"
   ]
  },
  {
   "cell_type": "code",
   "execution_count": 113,
   "id": "968b541a",
   "metadata": {},
   "outputs": [
    {
     "data": {
      "image/png": "[encoded data removed]",
      "text/plain": [
       "<Figure size 432x288 with 2 Axes>"
      ]
     },
     "metadata": {
      "needs_background": "light"
     },
     "output_type": "display_data"
    },
    {
     "data": {
      "image/png": "[encoded data removed]",
      "text/plain": [
       "<Figure size 432x288 with 2 Axes>"
      ]
     },
     "metadata": {
      "needs_background": "light"
     },
     "output_type": "display_data"
    }
   ],
   "source": [
    "#this is a better way of visualizing the confusion matrix\n",
    "\n",
    "\n",
    "#defining a function for the confusion matrix display \n",
    "def plot_confusion_matrix(y_true, y_pred, classes,\n",
    "                          normalize=False,\n",
    "                          title=None,\n",
    "                          cmap=plt.cm.Blues):\n",
    "    \"\"\"\n",
    "    This function prints and plots the confusion matrix.\n",
    "    Normalization can be applied by setting `normalize=True`.\n",
    "    \"\"\"\n",
    "    if not title:\n",
    "        if normalize:\n",
    "            title = 'Normalized confusion matrix'\n",
    "        else:\n",
    "            title = 'Confusion matrix, without normalization'\n",
    "\n",
    "    # Compute confusion matrix\n",
    "    cm = sklearn.metrics.confusion_matrix(y_true, y_pred)\n",
    "\n",
    "    fig, ax = plt.subplots()\n",
    "    im = ax.imshow(cm, interpolation='nearest', cmap=cmap)\n",
    "    ax.figure.colorbar(im, ax=ax)\n",
    "    # We want to show all ticks...\n",
    "    ax.set(xticks=np.arange(cm.shape[1]),\n",
    "           yticks=np.arange(cm.shape[0]),\n",
    "           # ... and label them with the respective list entries\n",
    "           xticklabels=classes, yticklabels=classes,\n",
    "           title=title,\n",
    "           ylabel='True label',\n",
    "           xlabel='Predicted label')\n",
    "\n",
    "    # Rotate the tick labels and set their alignment.\n",
    "    plt.setp(ax.get_xticklabels(), rotation=45, ha=\"right\",\n",
    "             rotation_mode=\"anchor\")\n",
    "\n",
    "    # Loop over data dimensions and create text annotations.\n",
    "    fmt = '.2f' if normalize else 'd'\n",
    "    thresh = cm.max() / 2.\n",
    "    for i in range(cm.shape[0]):\n",
    "        for j in range(cm.shape[1]):\n",
    "            ax.text(j, i, format(cm[i, j], fmt),\n",
    "                    ha=\"center\", va=\"center\",\n",
    "                    color=\"white\" if cm[i, j] > thresh else \"black\")\n",
    "    fig.tight_layout()\n",
    "    return ax\n",
    "\n",
    "#setting the precision to two digits after the decimal point\n",
    "np.set_printoptions(precision=2)\n",
    "\n",
    "# Plot non-normalized confusion matrix\n",
    "plot_confusion_matrix(lab_test, lab_predict, classes=classes,\n",
    "                      title='Confusion matrix, without normalization')\n",
    "\n",
    "# Plot normalized confusion matrix\n",
    "plot_confusion_matrix(lab_test, lab_predict, classes=classes, normalize=True,\n",
    "                      title='Normalized confusion matrix')\n",
    "\n",
    "plt.show()"
   ]
  },
  {
   "cell_type": "code",
   "execution_count": null,
   "id": "a902c86b",
   "metadata": {},
   "outputs": [],
   "source": []
  }
 ],
 "metadata": {
  "kernelspec": {
   "display_name": "Python 3 (ipykernel)",
   "language": "python",
   "name": "python3"
  },
  "language_info": {
   "codemirror_mode": {
    "name": "ipython",
    "version": 3
   },
   "file_extension": ".py",
   "mimetype": "text/x-python",
   "name": "python",
   "nbconvert_exporter": "python",
   "pygments_lexer": "ipython3",
   "version": "3.9.12"
  }
 },
 "nbformat": 4,
 "nbformat_minor": 5
}
