{
 "cells": [
  {
   "cell_type": "markdown",
   "id": "b3212046",
   "metadata": {},
   "source": [
    "<h1 style = \"font-size:3rem;color:DarkCyan\">Train Classifier Model</h1>"
   ]
  },
  {
   "cell_type": "code",
   "execution_count": 180,
   "id": "2a7d3c86",
   "metadata": {},
   "outputs": [],
   "source": [
    "# import libraries\n",
    "import numpy as np\n",
    "import matplotlib.pyplot as plt\n",
    "import pandas as pd # for data importing\n",
    "import sklearn # for training the model"
   ]
  },
  {
   "cell_type": "code",
   "execution_count": 181,
   "id": "09b56919",
   "metadata": {},
   "outputs": [
    {
     "data": {
      "text/html": [
       "<div>\n",
       "<style scoped>\n",
       "    .dataframe tbody tr th:only-of-type {\n",
       "        vertical-align: middle;\n",
       "    }\n",
       "\n",
       "    .dataframe tbody tr th {\n",
       "        vertical-align: top;\n",
       "    }\n",
       "\n",
       "    .dataframe thead th {\n",
       "        text-align: right;\n",
       "    }\n",
       "</style>\n",
       "<table border=\"1\" class=\"dataframe\">\n",
       "  <thead>\n",
       "    <tr style=\"text-align: right;\">\n",
       "      <th></th>\n",
       "      <th>sf</th>\n",
       "      <th>sr</th>\n",
       "      <th>scon</th>\n",
       "      <th>mfcc</th>\n",
       "      <th>zcr</th>\n",
       "      <th>rms</th>\n",
       "      <th>label</th>\n",
       "      <th>filename</th>\n",
       "    </tr>\n",
       "  </thead>\n",
       "  <tbody>\n",
       "    <tr>\n",
       "      <th>0</th>\n",
       "      <td>-0.650937</td>\n",
       "      <td>1.103137</td>\n",
       "      <td>0.201820</td>\n",
       "      <td>-0.181805</td>\n",
       "      <td>2.359166</td>\n",
       "      <td>-0.087440</td>\n",
       "      <td>0.0</td>\n",
       "      <td>clap00.wav</td>\n",
       "    </tr>\n",
       "    <tr>\n",
       "      <th>1</th>\n",
       "      <td>-0.455283</td>\n",
       "      <td>1.621357</td>\n",
       "      <td>0.319636</td>\n",
       "      <td>-0.156507</td>\n",
       "      <td>1.448470</td>\n",
       "      <td>0.460283</td>\n",
       "      <td>0.0</td>\n",
       "      <td>clap01.wav</td>\n",
       "    </tr>\n",
       "    <tr>\n",
       "      <th>2</th>\n",
       "      <td>-0.582337</td>\n",
       "      <td>1.217733</td>\n",
       "      <td>0.004219</td>\n",
       "      <td>-0.096929</td>\n",
       "      <td>1.530512</td>\n",
       "      <td>0.112806</td>\n",
       "      <td>0.0</td>\n",
       "      <td>clap02.wav</td>\n",
       "    </tr>\n",
       "    <tr>\n",
       "      <th>3</th>\n",
       "      <td>-0.481064</td>\n",
       "      <td>1.412264</td>\n",
       "      <td>-1.139505</td>\n",
       "      <td>0.943533</td>\n",
       "      <td>2.719303</td>\n",
       "      <td>0.093284</td>\n",
       "      <td>0.0</td>\n",
       "      <td>clap03.wav</td>\n",
       "    </tr>\n",
       "    <tr>\n",
       "      <th>4</th>\n",
       "      <td>-0.677210</td>\n",
       "      <td>0.038988</td>\n",
       "      <td>-1.122057</td>\n",
       "      <td>0.161869</td>\n",
       "      <td>0.490405</td>\n",
       "      <td>-0.428324</td>\n",
       "      <td>0.0</td>\n",
       "      <td>clap04.wav</td>\n",
       "    </tr>\n",
       "    <tr>\n",
       "      <th>...</th>\n",
       "      <td>...</td>\n",
       "      <td>...</td>\n",
       "      <td>...</td>\n",
       "      <td>...</td>\n",
       "      <td>...</td>\n",
       "      <td>...</td>\n",
       "      <td>...</td>\n",
       "      <td>...</td>\n",
       "    </tr>\n",
       "    <tr>\n",
       "      <th>162</th>\n",
       "      <td>-0.551290</td>\n",
       "      <td>1.117861</td>\n",
       "      <td>-0.087366</td>\n",
       "      <td>0.171507</td>\n",
       "      <td>1.413513</td>\n",
       "      <td>-0.314272</td>\n",
       "      <td>3.0</td>\n",
       "      <td>snare_37.wav</td>\n",
       "    </tr>\n",
       "    <tr>\n",
       "      <th>163</th>\n",
       "      <td>-0.601877</td>\n",
       "      <td>0.814952</td>\n",
       "      <td>-0.097283</td>\n",
       "      <td>-0.141917</td>\n",
       "      <td>0.905417</td>\n",
       "      <td>-0.293384</td>\n",
       "      <td>3.0</td>\n",
       "      <td>snare_38.wav</td>\n",
       "    </tr>\n",
       "    <tr>\n",
       "      <th>164</th>\n",
       "      <td>-0.628628</td>\n",
       "      <td>0.937689</td>\n",
       "      <td>-0.308812</td>\n",
       "      <td>0.533378</td>\n",
       "      <td>0.223181</td>\n",
       "      <td>-0.347412</td>\n",
       "      <td>3.0</td>\n",
       "      <td>snare_39.wav</td>\n",
       "    </tr>\n",
       "    <tr>\n",
       "      <th>165</th>\n",
       "      <td>-0.603429</td>\n",
       "      <td>1.116316</td>\n",
       "      <td>-0.261414</td>\n",
       "      <td>-0.104417</td>\n",
       "      <td>0.660124</td>\n",
       "      <td>-0.320820</td>\n",
       "      <td>3.0</td>\n",
       "      <td>snare_40.wav</td>\n",
       "    </tr>\n",
       "    <tr>\n",
       "      <th>166</th>\n",
       "      <td>-0.545701</td>\n",
       "      <td>1.164446</td>\n",
       "      <td>-0.235714</td>\n",
       "      <td>0.440560</td>\n",
       "      <td>1.306093</td>\n",
       "      <td>-0.346581</td>\n",
       "      <td>3.0</td>\n",
       "      <td>snare_41.wav</td>\n",
       "    </tr>\n",
       "  </tbody>\n",
       "</table>\n",
       "<p>167 rows × 8 columns</p>\n",
       "</div>"
      ],
      "text/plain": [
       "           sf        sr      scon      mfcc       zcr       rms  label  \\\n",
       "0   -0.650937  1.103137  0.201820 -0.181805  2.359166 -0.087440    0.0   \n",
       "1   -0.455283  1.621357  0.319636 -0.156507  1.448470  0.460283    0.0   \n",
       "2   -0.582337  1.217733  0.004219 -0.096929  1.530512  0.112806    0.0   \n",
       "3   -0.481064  1.412264 -1.139505  0.943533  2.719303  0.093284    0.0   \n",
       "4   -0.677210  0.038988 -1.122057  0.161869  0.490405 -0.428324    0.0   \n",
       "..        ...       ...       ...       ...       ...       ...    ...   \n",
       "162 -0.551290  1.117861 -0.087366  0.171507  1.413513 -0.314272    3.0   \n",
       "163 -0.601877  0.814952 -0.097283 -0.141917  0.905417 -0.293384    3.0   \n",
       "164 -0.628628  0.937689 -0.308812  0.533378  0.223181 -0.347412    3.0   \n",
       "165 -0.603429  1.116316 -0.261414 -0.104417  0.660124 -0.320820    3.0   \n",
       "166 -0.545701  1.164446 -0.235714  0.440560  1.306093 -0.346581    3.0   \n",
       "\n",
       "         filename  \n",
       "0      clap00.wav  \n",
       "1      clap01.wav  \n",
       "2      clap02.wav  \n",
       "3      clap03.wav  \n",
       "4      clap04.wav  \n",
       "..            ...  \n",
       "162  snare_37.wav  \n",
       "163  snare_38.wav  \n",
       "164  snare_39.wav  \n",
       "165  snare_40.wav  \n",
       "166  snare_41.wav  \n",
       "\n",
       "[167 rows x 8 columns]"
      ]
     },
     "execution_count": 181,
     "metadata": {},
     "output_type": "execute_result"
    }
   ],
   "source": [
    "# import the dataset (extracted features) saved in a .csv\n",
    "dataset = pd.read_csv(r'dataset.csv' , index_col=0)\n",
    "dataset"
   ]
  },
  {
   "cell_type": "code",
   "execution_count": 166,
   "id": "11025371",
   "metadata": {},
   "outputs": [],
   "source": [
    "labels = np.array(dataset.label)\n",
    "features = np.array([dataset.sf, dataset.sr, dataset.scon, dataset.mfcc, dataset.zcr, dataset.rms]).T\n",
    "classes = ['clap','cymbal','kick','snare'] "
   ]
  },
  {
   "cell_type": "markdown",
   "id": "657c157c",
   "metadata": {},
   "source": [
    "<h2 style = \"font-size:2rem;color:DarkCyan\"> Splitting dataset into training and test data</h2>"
   ]
  },
  {
   "cell_type": "code",
   "execution_count": 167,
   "id": "f77914aa",
   "metadata": {},
   "outputs": [
    {
     "name": "stdout",
     "output_type": "stream",
     "text": [
      "(167, 6)\n",
      "(116, 6)\n",
      "(51, 6)\n"
     ]
    }
   ],
   "source": [
    "# split dataset using skylearn \n",
    "#Importing the tool, alternatively you can call sklearn.model_selection.train_test_split(..,..,..,)\n",
    "from sklearn.model_selection import train_test_split\n",
    "\n",
    "#splitting the dataset in training and testing parts - using 70 - 30 split\n",
    "feat_train, feat_test, lab_train, lab_test = train_test_split(features, labels, test_size=0.3, random_state=14)\n",
    "print(features.shape)\n",
    "print(feat_train.shape)\n",
    "print(feat_test.shape)"
   ]
  },
  {
   "cell_type": "markdown",
   "id": "3befa174",
   "metadata": {},
   "source": [
    "<h2 style = \"font-size:2rem;color:DarkCyan\"> Creating Gaussian Naive Bayes classifier</h2>"
   ]
  },
  {
   "cell_type": "code",
   "execution_count": 168,
   "id": "e130b7c9",
   "metadata": {},
   "outputs": [],
   "source": [
    "from sklearn.naive_bayes import GaussianNB\n",
    "\n",
    "model_GNB = GaussianNB()"
   ]
  },
  {
   "cell_type": "markdown",
   "id": "bb038ce4",
   "metadata": {},
   "source": [
    "<h2 style = \"font-size:2rem;color:DarkCyan\"> Train classifier</h2>"
   ]
  },
  {
   "cell_type": "code",
   "execution_count": 169,
   "id": "3ff9bb47",
   "metadata": {},
   "outputs": [
    {
     "data": {
      "text/plain": [
       "GaussianNB()"
      ]
     },
     "execution_count": 169,
     "metadata": {},
     "output_type": "execute_result"
    }
   ],
   "source": [
    "model_GNB.fit(feat_train, lab_train)"
   ]
  },
  {
   "cell_type": "markdown",
   "id": "fadcbc70",
   "metadata": {},
   "source": [
    "<h2 style = \"font-size:2rem;color:DarkCyan\"> Test classifier</h2>"
   ]
  },
  {
   "cell_type": "code",
   "execution_count": 170,
   "id": "8f33a891",
   "metadata": {},
   "outputs": [
    {
     "name": "stdout",
     "output_type": "stream",
     "text": [
      "Number of mislabeled samples 9 out of 51\n",
      "Accuracy: 0.8235294117647058\n"
     ]
    }
   ],
   "source": [
    "lab_predict =  model_GNB.predict(feat_test)\n",
    "\n",
    "#print the number of misclassified samples, accuracy and complete report (using scikit learn metric tools) \n",
    "print('Number of mislabeled samples %d out of %d' % ((lab_test != lab_predict).sum(),lab_test.size))\n",
    "print('Accuracy:',sklearn.metrics.accuracy_score(lab_test, lab_predict))"
   ]
  },
  {
   "cell_type": "markdown",
   "id": "1b13d376",
   "metadata": {},
   "source": [
    "<h2 style = \"font-size:2rem;color:DarkCyan\"> Performance Metrics</h2>"
   ]
  },
  {
   "cell_type": "code",
   "execution_count": 177,
   "id": "bc0d1f57",
   "metadata": {},
   "outputs": [
    {
     "name": "stdout",
     "output_type": "stream",
     "text": [
      "              precision    recall  f1-score   support\n",
      "\n",
      "         0.0       0.90      0.60      0.72        15\n",
      "         1.0       0.71      1.00      0.83        12\n",
      "         2.0       0.91      0.91      0.91        11\n",
      "         3.0       0.85      0.85      0.85        13\n",
      "\n",
      "    accuracy                           0.82        51\n",
      "   macro avg       0.84      0.84      0.83        51\n",
      "weighted avg       0.84      0.82      0.82        51\n",
      "\n",
      "[[ 9  3  1  2]\n",
      " [ 0 12  0  0]\n",
      " [ 1  0 10  0]\n",
      " [ 0  2  0 11]]\n",
      "\n",
      "Kappa score =  0.7654573326520184\n"
     ]
    }
   ],
   "source": [
    "#computing a comprehensive set of performance metrics\n",
    "print(sklearn.metrics.classification_report(lab_test, lab_predict))\n",
    "\n",
    "print(sklearn.metrics.confusion_matrix(lab_test, lab_predict))\n",
    "\n",
    "print(\"\\nKappa score = \", sklearn.metrics.cohen_kappa_score(lab_test, lab_predict))"
   ]
  },
  {
   "cell_type": "code",
   "execution_count": 178,
   "id": "a3f1add0",
   "metadata": {},
   "outputs": [
    {
     "name": "stdout",
     "output_type": "stream",
     "text": [
      "clap07.wav\n",
      "clap09.wav\n",
      "clap10.wav\n",
      "clap16.wav\n",
      "clap20.wav\n",
      "clap37.wav\n",
      "clap40.wav\n",
      "cymbal03.wav\n",
      "cymbal06.wav\n"
     ]
    }
   ],
   "source": [
    "#displaying names of misclassified files\n",
    "results = lab_test == lab_predict\n",
    "\n",
    "for idx in range(0,len(results)):\n",
    "    if results[idx] == False:\n",
    "        print(dataset.filename[idx])"
   ]
  },
  {
   "cell_type": "markdown",
   "id": "3e3a51d3",
   "metadata": {},
   "source": [
    "<h2 style = \"font-size:2rem;color:DarkCyan\"> Visualizing Performance Matrix</h2>"
   ]
  },
  {
   "cell_type": "code",
   "execution_count": 179,
   "id": "f855cf73",
   "metadata": {},
   "outputs": [
    {
     "data": {
      "image/png": "[encoded data removed]",
      "text/plain": [
       "<Figure size 432x288 with 2 Axes>"
      ]
     },
     "metadata": {
      "needs_background": "light"
     },
     "output_type": "display_data"
    },
    {
     "data": {
      "image/png": "[encoded data removed]",
      "text/plain": [
       "<Figure size 432x288 with 2 Axes>"
      ]
     },
     "metadata": {
      "needs_background": "light"
     },
     "output_type": "display_data"
    }
   ],
   "source": [
    "\n",
    "#defining a function for the confusion matrix display, from Stefano Fasciani\n",
    "def plot_confusion_matrix(y_true, y_pred, classes,\n",
    "                          normalize=False,\n",
    "                          title=None,\n",
    "                          cmap=plt.cm.Blues):\n",
    "    \"\"\"\n",
    "    This function prints and plots the confusion matrix.\n",
    "    Normalization can be applied by setting `normalize=True`.\n",
    "    \"\"\"\n",
    "    \n",
    "    if not title:\n",
    "        if normalize:\n",
    "            title = 'Normalized confusion matrix'\n",
    "        else:\n",
    "            title = 'Confusion matrix, without normalization'\n",
    "\n",
    "    # Compute confusion matrix\n",
    "    cm = sklearn.metrics.confusion_matrix(y_true, y_pred)\n",
    "    # Only use the labels that appear in the data\n",
    "    #classes = classes[sklearn.utils.multiclass.unique_labels(y_true, y_pred)]\n",
    "    if normalize:\n",
    "        cm = cm.astype('float') / cm.sum(axis=1)[:, np.newaxis]\n",
    "       # print(\"Normalized confusion matrix\")\n",
    "    \n",
    "    #print(cm)\n",
    "    \n",
    "    fig, ax = plt.subplots()\n",
    "    im = ax.imshow(cm, interpolation='nearest', cmap=cmap)\n",
    "    ax.figure.colorbar(im, ax=ax)\n",
    "    # We want to show all ticks...\n",
    "    ax.set(xticks=np.arange(cm.shape[1]),\n",
    "           yticks=np.arange(cm.shape[0]),\n",
    "           # ... and label them with the respective list entries\n",
    "           xticklabels=classes, yticklabels=classes,\n",
    "           title=title,\n",
    "           ylabel='True label',\n",
    "           xlabel='Predicted label')\n",
    "\n",
    "    # Rotate the tick labels and set their alignment.\n",
    "    plt.setp(ax.get_xticklabels(), rotation=45, ha=\"right\",\n",
    "             rotation_mode=\"anchor\")\n",
    "\n",
    "    # Loop over data dimensions and create text annotations.\n",
    "    fmt = '.2f' if normalize else 'd'\n",
    "    thresh = cm.max() / 2.\n",
    "    for i in range(cm.shape[0]):\n",
    "        for j in range(cm.shape[1]):\n",
    "            ax.text(j, i, format(cm[i, j], fmt),\n",
    "                    ha=\"center\", va=\"center\",\n",
    "                    color=\"white\" if cm[i, j] > thresh else \"black\")\n",
    "    fig.tight_layout()\n",
    "    return ax\n",
    "\n",
    "#setting the precision to two digits after the decimal point\n",
    "np.set_printoptions(precision=2)\n",
    "\n",
    "\n",
    "# Plot non-normalized confusion matrix\n",
    "plot_confusion_matrix(lab_test, lab_predict, classes=classes,\n",
    "                      title='Confusion matrix, without normalization')\n",
    "\n",
    "\n",
    "# Plot normalized confusion matrix\n",
    "plot_confusion_matrix(lab_test, lab_predict, classes=classes, normalize=True,\n",
    "                      title='Normalized confusion matrix')\n",
    "\n",
    "\n",
    "plt.show()"
   ]
  },
  {
   "cell_type": "code",
   "execution_count": null,
   "id": "22d9884e",
   "metadata": {},
   "outputs": [],
   "source": []
  }
 ],
 "metadata": {
  "kernelspec": {
   "display_name": "Python 3 (ipykernel)",
   "language": "python",
   "name": "python3"
  },
  "language_info": {
   "codemirror_mode": {
    "name": "ipython",
    "version": 3
   },
   "file_extension": ".py",
   "mimetype": "text/x-python",
   "name": "python",
   "nbconvert_exporter": "python",
   "pygments_lexer": "ipython3",
   "version": "3.9.12"
  }
 },
 "nbformat": 4,
 "nbformat_minor": 5
}
