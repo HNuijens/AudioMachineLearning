{
 "cells": [
  {
   "cell_type": "markdown",
   "id": "e4af7b24",
   "metadata": {},
   "source": [
    "<h1 style = \"font-size:3rem;color:darkcyan\"> Training a Neural Network using TensorFlow </h1>\n"
   ]
  },
  {
   "cell_type": "code",
   "execution_count": 1,
   "id": "7f4ddd7c",
   "metadata": {},
   "outputs": [],
   "source": [
    "# importing libraries\n",
    "import numpy as np\n",
    "from random import random\n",
    "import tensorflow as tf\n",
    "from sklearn.model_selection import train_test_split"
   ]
  },
  {
   "cell_type": "code",
   "execution_count": 40,
   "id": "3726e050",
   "metadata": {},
   "outputs": [],
   "source": [
    "# create dataset & train model to add the inputs\n",
    "inputs = np.array([[random() / 2 for _ in range(2)] for _ in range(5000)])\n",
    "targets = np.array([[i[0] + i[1]] for i in inputs])"
   ]
  },
  {
   "cell_type": "code",
   "execution_count": 41,
   "id": "6b875790",
   "metadata": {},
   "outputs": [
    {
     "data": {
      "text/plain": [
       "(3500, 2)"
      ]
     },
     "execution_count": 41,
     "metadata": {},
     "output_type": "execute_result"
    }
   ],
   "source": [
    "# split data\n",
    "x_train, x_test, y_train, y_test = train_test_split(inputs, targets, test_size = 0.3)\n",
    "x_train.shape"
   ]
  },
  {
   "cell_type": "code",
   "execution_count": 42,
   "id": "d14e6409",
   "metadata": {},
   "outputs": [],
   "source": [
    "# buid model\n",
    "model = tf.keras.Sequential(layers = [\n",
    "    tf.keras.layers.Dense(5, input_dim = 2, activation = 'sigmoid'),\n",
    "    tf.keras.layers.Dense(1, activation = 'sigmoid')\n",
    "])  "
   ]
  },
  {
   "cell_type": "code",
   "execution_count": 43,
   "id": "3bf05169",
   "metadata": {},
   "outputs": [],
   "source": [
    "learning_rate = 0.1\n",
    "optimiser = tf.keras.optimizers.SGD(learning_rate = learning_rate)\n",
    "model.compile(optimizer=optimiser, loss = 'MSE')"
   ]
  },
  {
   "cell_type": "code",
   "execution_count": 44,
   "id": "ad147170",
   "metadata": {},
   "outputs": [
    {
     "name": "stdout",
     "output_type": "stream",
     "text": [
      "Epoch 1/100\n",
      "110/110 [==============================] - 0s 560us/step - loss: 0.0426\n",
      "Epoch 2/100\n",
      "110/110 [==============================] - 0s 551us/step - loss: 0.0390\n",
      "Epoch 3/100\n",
      "110/110 [==============================] - 0s 532us/step - loss: 0.0385\n",
      "Epoch 4/100\n",
      "110/110 [==============================] - 0s 541us/step - loss: 0.0379\n",
      "Epoch 5/100\n",
      "110/110 [==============================] - 0s 551us/step - loss: 0.0374\n",
      "Epoch 6/100\n",
      "110/110 [==============================] - 0s 532us/step - loss: 0.0368\n",
      "Epoch 7/100\n",
      "110/110 [==============================] - 0s 560us/step - loss: 0.0363\n",
      "Epoch 8/100\n",
      "110/110 [==============================] - 0s 540us/step - loss: 0.0357\n",
      "Epoch 9/100\n",
      "110/110 [==============================] - 0s 532us/step - loss: 0.0351\n",
      "Epoch 10/100\n",
      "110/110 [==============================] - 0s 558us/step - loss: 0.0345\n",
      "Epoch 11/100\n",
      "110/110 [==============================] - 0s 551us/step - loss: 0.0338\n",
      "Epoch 12/100\n",
      "110/110 [==============================] - 0s 537us/step - loss: 0.0331\n",
      "Epoch 13/100\n",
      "110/110 [==============================] - 0s 569us/step - loss: 0.0325\n",
      "Epoch 14/100\n",
      "110/110 [==============================] - 0s 541us/step - loss: 0.0318\n",
      "Epoch 15/100\n",
      "110/110 [==============================] - 0s 549us/step - loss: 0.0310\n",
      "Epoch 16/100\n",
      "110/110 [==============================] - 0s 555us/step - loss: 0.0303\n",
      "Epoch 17/100\n",
      "110/110 [==============================] - 0s 538us/step - loss: 0.0296\n",
      "Epoch 18/100\n",
      "110/110 [==============================] - 0s 541us/step - loss: 0.0288\n",
      "Epoch 19/100\n",
      "110/110 [==============================] - 0s 532us/step - loss: 0.0280\n",
      "Epoch 20/100\n",
      "110/110 [==============================] - 0s 532us/step - loss: 0.0272\n",
      "Epoch 21/100\n",
      "110/110 [==============================] - 0s 551us/step - loss: 0.0264\n",
      "Epoch 22/100\n",
      "110/110 [==============================] - 0s 551us/step - loss: 0.0255\n",
      "Epoch 23/100\n",
      "110/110 [==============================] - 0s 541us/step - loss: 0.0247\n",
      "Epoch 24/100\n",
      "110/110 [==============================] - 0s 541us/step - loss: 0.0238\n",
      "Epoch 25/100\n",
      "110/110 [==============================] - 0s 551us/step - loss: 0.0230\n",
      "Epoch 26/100\n",
      "110/110 [==============================] - 0s 534us/step - loss: 0.0221\n",
      "Epoch 27/100\n",
      "110/110 [==============================] - 0s 540us/step - loss: 0.0212\n",
      "Epoch 28/100\n",
      "110/110 [==============================] - 0s 544us/step - loss: 0.0204\n",
      "Epoch 29/100\n",
      "110/110 [==============================] - 0s 552us/step - loss: 0.0195\n",
      "Epoch 30/100\n",
      "110/110 [==============================] - 0s 541us/step - loss: 0.0187\n",
      "Epoch 31/100\n",
      "110/110 [==============================] - 0s 546us/step - loss: 0.0178\n",
      "Epoch 32/100\n",
      "110/110 [==============================] - 0s 541us/step - loss: 0.0170\n",
      "Epoch 33/100\n",
      "110/110 [==============================] - 0s 537us/step - loss: 0.0162\n",
      "Epoch 34/100\n",
      "110/110 [==============================] - 0s 564us/step - loss: 0.0154\n",
      "Epoch 35/100\n",
      "110/110 [==============================] - 0s 561us/step - loss: 0.0146\n",
      "Epoch 36/100\n",
      "110/110 [==============================] - 0s 541us/step - loss: 0.0139\n",
      "Epoch 37/100\n",
      "110/110 [==============================] - 0s 554us/step - loss: 0.0132\n",
      "Epoch 38/100\n",
      "110/110 [==============================] - 0s 541us/step - loss: 0.0124\n",
      "Epoch 39/100\n",
      "110/110 [==============================] - 0s 532us/step - loss: 0.0117\n",
      "Epoch 40/100\n",
      "110/110 [==============================] - 0s 551us/step - loss: 0.0111\n",
      "Epoch 41/100\n",
      "110/110 [==============================] - 0s 560us/step - loss: 0.0105\n",
      "Epoch 42/100\n",
      "110/110 [==============================] - 0s 543us/step - loss: 0.0098\n",
      "Epoch 43/100\n",
      "110/110 [==============================] - 0s 565us/step - loss: 0.0093\n",
      "Epoch 44/100\n",
      "110/110 [==============================] - 0s 560us/step - loss: 0.0087\n",
      "Epoch 45/100\n",
      "110/110 [==============================] - 0s 555us/step - loss: 0.0082\n",
      "Epoch 46/100\n",
      "110/110 [==============================] - 0s 560us/step - loss: 0.0077\n",
      "Epoch 47/100\n",
      "110/110 [==============================] - 0s 560us/step - loss: 0.0072\n",
      "Epoch 48/100\n",
      "110/110 [==============================] - 0s 554us/step - loss: 0.0068\n",
      "Epoch 49/100\n",
      "110/110 [==============================] - 0s 546us/step - loss: 0.0063\n",
      "Epoch 50/100\n",
      "110/110 [==============================] - 0s 652us/step - loss: 0.0059\n",
      "Epoch 51/100\n",
      "110/110 [==============================] - 0s 648us/step - loss: 0.0055\n",
      "Epoch 52/100\n",
      "110/110 [==============================] - 0s 606us/step - loss: 0.0052\n",
      "Epoch 53/100\n",
      "110/110 [==============================] - 0s 546us/step - loss: 0.0049\n",
      "Epoch 54/100\n",
      "110/110 [==============================] - 0s 547us/step - loss: 0.0045\n",
      "Epoch 55/100\n",
      "110/110 [==============================] - 0s 551us/step - loss: 0.0043\n",
      "Epoch 56/100\n",
      "110/110 [==============================] - 0s 551us/step - loss: 0.0040\n",
      "Epoch 57/100\n",
      "110/110 [==============================] - 0s 541us/step - loss: 0.0037\n",
      "Epoch 58/100\n",
      "110/110 [==============================] - 0s 569us/step - loss: 0.0035\n",
      "Epoch 59/100\n",
      "110/110 [==============================] - 0s 554us/step - loss: 0.0033\n",
      "Epoch 60/100\n",
      "110/110 [==============================] - 0s 551us/step - loss: 0.0031\n",
      "Epoch 61/100\n",
      "110/110 [==============================] - 0s 541us/step - loss: 0.0029\n",
      "Epoch 62/100\n",
      "110/110 [==============================] - 0s 560us/step - loss: 0.0027\n",
      "Epoch 63/100\n",
      "110/110 [==============================] - 0s 532us/step - loss: 0.0025\n",
      "Epoch 64/100\n",
      "110/110 [==============================] - 0s 557us/step - loss: 0.0024\n",
      "Epoch 65/100\n",
      "110/110 [==============================] - 0s 551us/step - loss: 0.0022\n",
      "Epoch 66/100\n",
      "110/110 [==============================] - 0s 532us/step - loss: 0.0021\n",
      "Epoch 67/100\n",
      "110/110 [==============================] - 0s 541us/step - loss: 0.0019\n",
      "Epoch 68/100\n",
      "110/110 [==============================] - 0s 541us/step - loss: 0.0018\n",
      "Epoch 69/100\n",
      "110/110 [==============================] - 0s 569us/step - loss: 0.0017\n",
      "Epoch 70/100\n",
      "110/110 [==============================] - 0s 551us/step - loss: 0.0016\n",
      "Epoch 71/100\n",
      "110/110 [==============================] - 0s 523us/step - loss: 0.0015\n",
      "Epoch 72/100\n",
      "110/110 [==============================] - 0s 551us/step - loss: 0.0014\n",
      "Epoch 73/100\n",
      "110/110 [==============================] - 0s 551us/step - loss: 0.0014\n",
      "Epoch 74/100\n",
      "110/110 [==============================] - 0s 541us/step - loss: 0.0013\n",
      "Epoch 75/100\n",
      "110/110 [==============================] - 0s 541us/step - loss: 0.0012\n",
      "Epoch 76/100\n",
      "110/110 [==============================] - 0s 532us/step - loss: 0.0011\n",
      "Epoch 77/100\n",
      "110/110 [==============================] - 0s 541us/step - loss: 0.0011\n",
      "Epoch 78/100\n",
      "110/110 [==============================] - 0s 560us/step - loss: 0.0010\n",
      "Epoch 79/100\n",
      "110/110 [==============================] - 0s 551us/step - loss: 9.8392e-04\n",
      "Epoch 80/100\n",
      "110/110 [==============================] - 0s 541us/step - loss: 9.3647e-04\n",
      "Epoch 81/100\n",
      "110/110 [==============================] - 0s 541us/step - loss: 8.9222e-04\n",
      "Epoch 82/100\n",
      "110/110 [==============================] - 0s 551us/step - loss: 8.5208e-04\n",
      "Epoch 83/100\n",
      "110/110 [==============================] - 0s 532us/step - loss: 8.1400e-04\n",
      "Epoch 84/100\n",
      "110/110 [==============================] - 0s 541us/step - loss: 7.7914e-04\n",
      "Epoch 85/100\n",
      "110/110 [==============================] - 0s 551us/step - loss: 7.4706e-04\n",
      "Epoch 86/100\n",
      "110/110 [==============================] - 0s 551us/step - loss: 7.1688e-04\n",
      "Epoch 87/100\n",
      "110/110 [==============================] - 0s 551us/step - loss: 6.8909e-04\n",
      "Epoch 88/100\n",
      "110/110 [==============================] - 0s 547us/step - loss: 6.6313e-04\n",
      "Epoch 89/100\n",
      "110/110 [==============================] - 0s 560us/step - loss: 6.3933e-04\n",
      "Epoch 90/100\n",
      "110/110 [==============================] - 0s 532us/step - loss: 6.1713e-04\n",
      "Epoch 91/100\n",
      "110/110 [==============================] - 0s 551us/step - loss: 5.9684e-04\n",
      "Epoch 92/100\n",
      "110/110 [==============================] - 0s 541us/step - loss: 5.7780e-04\n",
      "Epoch 93/100\n",
      "110/110 [==============================] - 0s 541us/step - loss: 5.6040e-04\n",
      "Epoch 94/100\n",
      "110/110 [==============================] - 0s 550us/step - loss: 5.4391e-04\n",
      "Epoch 95/100\n",
      "110/110 [==============================] - 0s 551us/step - loss: 5.2908e-04\n",
      "Epoch 96/100\n"
     ]
    },
    {
     "name": "stdout",
     "output_type": "stream",
     "text": [
      "110/110 [==============================] - 0s 551us/step - loss: 5.1517e-04\n",
      "Epoch 97/100\n",
      "110/110 [==============================] - 0s 532us/step - loss: 5.0226e-04\n",
      "Epoch 98/100\n",
      "110/110 [==============================] - 0s 532us/step - loss: 4.9025e-04\n",
      "Epoch 99/100\n",
      "110/110 [==============================] - 0s 523us/step - loss: 4.7933e-04\n",
      "Epoch 100/100\n",
      "110/110 [==============================] - 0s 541us/step - loss: 4.6907e-04\n"
     ]
    },
    {
     "data": {
      "text/plain": [
       "<keras.callbacks.History at 0x1e860388bb0>"
      ]
     },
     "execution_count": 44,
     "metadata": {},
     "output_type": "execute_result"
    }
   ],
   "source": [
    "# train model\n",
    "model.fit(x_train, y_train, epochs = 100)"
   ]
  },
  {
   "cell_type": "code",
   "execution_count": 45,
   "id": "bd09f7ce",
   "metadata": {},
   "outputs": [
    {
     "name": "stdout",
     "output_type": "stream",
     "text": [
      "Model evaluation: \n",
      "47/47 [==============================] - 0s 544us/step - loss: 4.4602e-04\n"
     ]
    },
    {
     "data": {
      "text/plain": [
       "0.0004460198397282511"
      ]
     },
     "execution_count": 45,
     "metadata": {},
     "output_type": "execute_result"
    }
   ],
   "source": [
    "# evaluate model\n",
    "print('Model evaluation: ')\n",
    "model.evaluate(x_test, y_test, verbose = True)"
   ]
  },
  {
   "cell_type": "code",
   "execution_count": 66,
   "id": "07ba8205",
   "metadata": {},
   "outputs": [
    {
     "name": "stdout",
     "output_type": "stream",
     "text": [
      "[[0.1 0.2]]\n",
      "1/1 [==============================] - 0s 16ms/step\n",
      "Actual value = 0.30000000000000004, predicted value: [[0.29948482]],\n"
     ]
    }
   ],
   "source": [
    "# make predictions\n",
    "inputs = np.array([[0.1, 0.2]])\n",
    "print(inputs)\n",
    "predictions = model.predict(inputs)\n",
    "print(f'Actual value = {inputs[0,0] + inputs[0,1]}, predicted value: {predictions},')"
   ]
  },
  {
   "cell_type": "code",
   "execution_count": null,
   "id": "16445c99",
   "metadata": {},
   "outputs": [],
   "source": []
  }
 ],
 "metadata": {
  "kernelspec": {
   "display_name": "Python 3 (ipykernel)",
   "language": "python",
   "name": "python3"
  },
  "language_info": {
   "codemirror_mode": {
    "name": "ipython",
    "version": 3
   },
   "file_extension": ".py",
   "mimetype": "text/x-python",
   "name": "python",
   "nbconvert_exporter": "python",
   "pygments_lexer": "ipython3",
   "version": "3.9.12"
  }
 },
 "nbformat": 4,
 "nbformat_minor": 5
}
