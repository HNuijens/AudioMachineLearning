{
 "cells": [
  {
   "cell_type": "markdown",
   "id": "e9a98b9c",
   "metadata": {},
   "source": [
    "<h1 style = \"font-size:3rem;color:darkcyan\"> Music genre classication - Train Model </h1>"
   ]
  },
  {
   "cell_type": "code",
   "execution_count": 3,
   "id": "16102066",
   "metadata": {},
   "outputs": [],
   "source": [
    "# import libraries\n",
    "import numpy as np\n",
    "import tensorflow as tf\n",
    "import json\n",
    "from sklearn.model_selection import train_test_split"
   ]
  },
  {
   "cell_type": "code",
   "execution_count": 6,
   "id": "2a46f804",
   "metadata": {},
   "outputs": [],
   "source": [
    "# importing dataset (.json)\n",
    "def import_dataset(dataset_path):\n",
    "    \n",
    "    # open json file\n",
    "    with open(dataset_path, 'r') as f:\n",
    "        data = json.load(f)\n",
    "    \n",
    "    # split list into different np arrays\n",
    "    \n",
    "    mappings = np.array(data['mappings']) \n",
    "    inputs = np.array(data['MFCC'])\n",
    "    targets = np.array(data['labels'])\n",
    "    filenames = np.array(data['filenames'])\n",
    "    \n",
    "    return mappings, inputs, targets, filenames"
   ]
  },
  {
   "cell_type": "code",
   "execution_count": 7,
   "id": "4f0a0acd",
   "metadata": {},
   "outputs": [],
   "source": [
    "mappings, inputs, targets, filenames = import_dataset('data.json')"
   ]
  },
  {
   "cell_type": "code",
   "execution_count": 10,
   "id": "76a73e29",
   "metadata": {},
   "outputs": [
    {
     "data": {
      "text/plain": [
       "array(['blues', 'classical', 'country', 'disco', 'hiphop', 'jazz',\n",
       "       'metal', 'pop', 'reggae', 'rock'], dtype='<U9')"
      ]
     },
     "execution_count": 10,
     "metadata": {},
     "output_type": "execute_result"
    }
   ],
   "source": [
    "mappings"
   ]
  },
  {
   "cell_type": "code",
   "execution_count": 17,
   "id": "62f9f75f",
   "metadata": {},
   "outputs": [
    {
     "data": {
      "text/plain": [
       "47"
      ]
     },
     "execution_count": 17,
     "metadata": {},
     "output_type": "execute_result"
    }
   ],
   "source": [
    "inputs.shape[1]"
   ]
  },
  {
   "cell_type": "code",
   "execution_count": 12,
   "id": "85889ff2",
   "metadata": {},
   "outputs": [],
   "source": [
    "# split the data\n",
    "\n",
    "x_train, x_test, y_train, y_test = train_test_split(inputs, targets, test_size = 0.3)"
   ]
  },
  {
   "cell_type": "code",
   "execution_count": 18,
   "id": "79c646d1",
   "metadata": {
    "scrolled": true
   },
   "outputs": [],
   "source": [
    "# create model\n",
    "model = tf.keras.Sequential([\n",
    "    tf.keras.layers.Flatten(input_shape = [inputs.shape[1], inputs.shape[2]]),\n",
    "    tf.keras.layers.Dense(512, activation = 'relu'),\n",
    "    tf.keras.layers.Dense(256, activation = 'relu'),\n",
    "    tf.keras.layers.Dense(64, activation = 'relu'),\n",
    "    tf.keras.layers.Dense(len(mappings), activation = 'softmax')\n",
    "])"
   ]
  },
  {
   "cell_type": "code",
   "execution_count": 19,
   "id": "ed5d8d5e",
   "metadata": {},
   "outputs": [],
   "source": [
    "# compile model\n",
    "learning_rate = 0.0001\n",
    "optimiser = tf.keras.optimizers.Adam(learning_rate = learning_rate)\n",
    "model.compile(optimizer = optimiser, \n",
    "              loss = 'sparse_categorical_crossentropy',\n",
    "             metrics = ['accuracy'])\n"
   ]
  },
  {
   "cell_type": "code",
   "execution_count": 20,
   "id": "7e93a5e9",
   "metadata": {},
   "outputs": [
    {
     "name": "stdout",
     "output_type": "stream",
     "text": [
      "Model: \"sequential\"\n",
      "_________________________________________________________________\n",
      " Layer (type)                Output Shape              Param #   \n",
      "=================================================================\n",
      " flatten (Flatten)           (None, 611)               0         \n",
      "                                                                 \n",
      " dense (Dense)               (None, 512)               313344    \n",
      "                                                                 \n",
      " dense_1 (Dense)             (None, 256)               131328    \n",
      "                                                                 \n",
      " dense_2 (Dense)             (None, 64)                16448     \n",
      "                                                                 \n",
      " dense_3 (Dense)             (None, 10)                650       \n",
      "                                                                 \n",
      "=================================================================\n",
      "Total params: 461,770\n",
      "Trainable params: 461,770\n",
      "Non-trainable params: 0\n",
      "_________________________________________________________________\n"
     ]
    }
   ],
   "source": [
    "model.summary()"
   ]
  },
  {
   "cell_type": "code",
   "execution_count": 22,
   "id": "2dad80a2",
   "metadata": {},
   "outputs": [
    {
     "name": "stdout",
     "output_type": "stream",
     "text": [
      "Epoch 1/50\n",
      "22/22 [==============================] - 2s 29ms/step - loss: 39.4137 - accuracy: 0.1545 - val_loss: 17.1824 - val_accuracy: 0.1433\n",
      "Epoch 2/50\n",
      "22/22 [==============================] - 0s 8ms/step - loss: 10.3478 - accuracy: 0.2103 - val_loss: 8.5122 - val_accuracy: 0.1933\n",
      "Epoch 3/50\n",
      "22/22 [==============================] - 0s 8ms/step - loss: 6.2695 - accuracy: 0.2861 - val_loss: 7.1267 - val_accuracy: 0.2167\n",
      "Epoch 4/50\n",
      "22/22 [==============================] - 0s 8ms/step - loss: 4.6526 - accuracy: 0.3305 - val_loss: 6.4665 - val_accuracy: 0.2233\n",
      "Epoch 5/50\n",
      "22/22 [==============================] - 0s 10ms/step - loss: 4.1066 - accuracy: 0.3491 - val_loss: 5.9004 - val_accuracy: 0.2367\n",
      "Epoch 6/50\n",
      "22/22 [==============================] - 0s 9ms/step - loss: 3.5713 - accuracy: 0.3977 - val_loss: 5.6294 - val_accuracy: 0.2667\n",
      "Epoch 7/50\n",
      "22/22 [==============================] - 0s 10ms/step - loss: 2.8617 - accuracy: 0.4392 - val_loss: 5.2364 - val_accuracy: 0.2667\n",
      "Epoch 8/50\n",
      "22/22 [==============================] - 0s 9ms/step - loss: 2.5378 - accuracy: 0.4778 - val_loss: 5.0417 - val_accuracy: 0.2800\n",
      "Epoch 9/50\n",
      "22/22 [==============================] - 0s 9ms/step - loss: 2.2309 - accuracy: 0.5079 - val_loss: 4.9515 - val_accuracy: 0.2800\n",
      "Epoch 10/50\n",
      "22/22 [==============================] - 0s 8ms/step - loss: 2.1011 - accuracy: 0.5308 - val_loss: 4.9949 - val_accuracy: 0.2833\n",
      "Epoch 11/50\n",
      "22/22 [==============================] - 0s 9ms/step - loss: 1.9671 - accuracy: 0.5279 - val_loss: 4.7592 - val_accuracy: 0.2967\n",
      "Epoch 12/50\n",
      "22/22 [==============================] - 0s 8ms/step - loss: 1.6744 - accuracy: 0.5823 - val_loss: 4.8157 - val_accuracy: 0.3300\n",
      "Epoch 13/50\n",
      "22/22 [==============================] - 0s 8ms/step - loss: 1.6443 - accuracy: 0.5908 - val_loss: 4.6359 - val_accuracy: 0.3167\n",
      "Epoch 14/50\n",
      "22/22 [==============================] - 0s 8ms/step - loss: 1.3275 - accuracy: 0.6395 - val_loss: 4.5018 - val_accuracy: 0.3233\n",
      "Epoch 15/50\n",
      "22/22 [==============================] - 0s 8ms/step - loss: 1.1458 - accuracy: 0.6409 - val_loss: 4.2268 - val_accuracy: 0.3333\n",
      "Epoch 16/50\n",
      "22/22 [==============================] - 0s 8ms/step - loss: 1.0338 - accuracy: 0.7082 - val_loss: 4.4104 - val_accuracy: 0.3100\n",
      "Epoch 17/50\n",
      "22/22 [==============================] - 0s 8ms/step - loss: 1.0089 - accuracy: 0.6753 - val_loss: 4.2794 - val_accuracy: 0.3333\n",
      "Epoch 18/50\n",
      "22/22 [==============================] - 0s 8ms/step - loss: 0.9485 - accuracy: 0.7110 - val_loss: 4.5693 - val_accuracy: 0.3167\n",
      "Epoch 19/50\n",
      "22/22 [==============================] - 0s 8ms/step - loss: 0.7763 - accuracy: 0.7396 - val_loss: 4.5643 - val_accuracy: 0.3467\n",
      "Epoch 20/50\n",
      "22/22 [==============================] - 0s 8ms/step - loss: 0.6653 - accuracy: 0.7811 - val_loss: 4.4889 - val_accuracy: 0.3200\n",
      "Epoch 21/50\n",
      "22/22 [==============================] - 0s 9ms/step - loss: 0.6219 - accuracy: 0.7725 - val_loss: 4.2436 - val_accuracy: 0.3367\n",
      "Epoch 22/50\n",
      "22/22 [==============================] - 0s 9ms/step - loss: 0.5823 - accuracy: 0.8183 - val_loss: 4.3958 - val_accuracy: 0.3367\n",
      "Epoch 23/50\n",
      "22/22 [==============================] - 0s 9ms/step - loss: 0.4436 - accuracy: 0.8584 - val_loss: 4.5423 - val_accuracy: 0.3533\n",
      "Epoch 24/50\n",
      "22/22 [==============================] - 0s 8ms/step - loss: 0.5039 - accuracy: 0.8226 - val_loss: 4.3695 - val_accuracy: 0.3333\n",
      "Epoch 25/50\n",
      "22/22 [==============================] - 0s 8ms/step - loss: 0.4935 - accuracy: 0.8183 - val_loss: 4.5513 - val_accuracy: 0.3500\n",
      "Epoch 26/50\n",
      "22/22 [==============================] - 0s 8ms/step - loss: 0.4421 - accuracy: 0.8498 - val_loss: 4.4509 - val_accuracy: 0.3367\n",
      "Epoch 27/50\n",
      "22/22 [==============================] - 0s 8ms/step - loss: 0.3557 - accuracy: 0.8856 - val_loss: 4.4236 - val_accuracy: 0.3533\n",
      "Epoch 28/50\n",
      "22/22 [==============================] - 0s 8ms/step - loss: 0.2431 - accuracy: 0.9342 - val_loss: 4.2427 - val_accuracy: 0.3400\n",
      "Epoch 29/50\n",
      "22/22 [==============================] - 0s 8ms/step - loss: 0.2420 - accuracy: 0.9471 - val_loss: 4.2126 - val_accuracy: 0.3600\n",
      "Epoch 30/50\n",
      "22/22 [==============================] - 0s 9ms/step - loss: 0.2096 - accuracy: 0.9557 - val_loss: 4.3116 - val_accuracy: 0.3367\n",
      "Epoch 31/50\n",
      "22/22 [==============================] - 0s 9ms/step - loss: 0.1902 - accuracy: 0.9557 - val_loss: 4.1985 - val_accuracy: 0.3333\n",
      "Epoch 32/50\n",
      "22/22 [==============================] - 0s 8ms/step - loss: 0.1736 - accuracy: 0.9628 - val_loss: 4.2870 - val_accuracy: 0.3500\n",
      "Epoch 33/50\n",
      "22/22 [==============================] - 0s 8ms/step - loss: 0.1566 - accuracy: 0.9714 - val_loss: 4.3326 - val_accuracy: 0.3667\n",
      "Epoch 34/50\n",
      "22/22 [==============================] - 0s 8ms/step - loss: 0.1628 - accuracy: 0.9628 - val_loss: 4.2506 - val_accuracy: 0.3433\n",
      "Epoch 35/50\n",
      "22/22 [==============================] - 0s 9ms/step - loss: 0.1707 - accuracy: 0.9628 - val_loss: 4.2572 - val_accuracy: 0.3633\n",
      "Epoch 36/50\n",
      "22/22 [==============================] - 0s 8ms/step - loss: 0.1530 - accuracy: 0.9728 - val_loss: 4.3724 - val_accuracy: 0.3733\n",
      "Epoch 37/50\n",
      "22/22 [==============================] - 0s 8ms/step - loss: 0.1448 - accuracy: 0.9785 - val_loss: 4.3343 - val_accuracy: 0.3767\n",
      "Epoch 38/50\n",
      "22/22 [==============================] - 0s 9ms/step - loss: 0.1041 - accuracy: 0.9928 - val_loss: 4.2759 - val_accuracy: 0.3667\n",
      "Epoch 39/50\n",
      "22/22 [==============================] - 0s 9ms/step - loss: 0.0966 - accuracy: 0.9886 - val_loss: 4.3156 - val_accuracy: 0.3600\n",
      "Epoch 40/50\n",
      "22/22 [==============================] - 0s 9ms/step - loss: 0.0839 - accuracy: 0.9957 - val_loss: 4.2932 - val_accuracy: 0.3667\n",
      "Epoch 41/50\n",
      "22/22 [==============================] - 0s 9ms/step - loss: 0.0762 - accuracy: 0.9943 - val_loss: 4.3139 - val_accuracy: 0.3700\n",
      "Epoch 42/50\n",
      "22/22 [==============================] - 0s 9ms/step - loss: 0.0678 - accuracy: 0.9986 - val_loss: 4.2482 - val_accuracy: 0.3767\n",
      "Epoch 43/50\n",
      "22/22 [==============================] - 0s 9ms/step - loss: 0.0652 - accuracy: 0.9986 - val_loss: 4.2751 - val_accuracy: 0.3800\n",
      "Epoch 44/50\n",
      "22/22 [==============================] - 0s 8ms/step - loss: 0.0706 - accuracy: 0.9971 - val_loss: 4.3001 - val_accuracy: 0.3667\n",
      "Epoch 45/50\n",
      "22/22 [==============================] - 0s 8ms/step - loss: 0.0607 - accuracy: 1.0000 - val_loss: 4.2347 - val_accuracy: 0.3733\n",
      "Epoch 46/50\n",
      "22/22 [==============================] - 0s 8ms/step - loss: 0.0552 - accuracy: 0.9986 - val_loss: 4.3573 - val_accuracy: 0.3800\n",
      "Epoch 47/50\n",
      "22/22 [==============================] - 0s 8ms/step - loss: 0.0524 - accuracy: 1.0000 - val_loss: 4.2750 - val_accuracy: 0.3667\n",
      "Epoch 48/50\n",
      "22/22 [==============================] - 0s 8ms/step - loss: 0.0490 - accuracy: 1.0000 - val_loss: 4.2753 - val_accuracy: 0.3633\n",
      "Epoch 49/50\n",
      "22/22 [==============================] - 0s 8ms/step - loss: 0.0478 - accuracy: 1.0000 - val_loss: 4.2518 - val_accuracy: 0.3700\n",
      "Epoch 50/50\n",
      "22/22 [==============================] - 0s 8ms/step - loss: 0.0474 - accuracy: 1.0000 - val_loss: 4.3109 - val_accuracy: 0.3633\n"
     ]
    },
    {
     "data": {
      "text/plain": [
       "<keras.callbacks.History at 0x19e2232beb0>"
      ]
     },
     "execution_count": 22,
     "metadata": {},
     "output_type": "execute_result"
    }
   ],
   "source": [
    "# train network\n",
    "model.fit(x_train, y_train, \n",
    "          validation_data = (x_test,y_test),\n",
    "          epochs = 50,\n",
    "          batch_size = 32)"
   ]
  },
  {
   "cell_type": "code",
   "execution_count": 23,
   "id": "9cc9ba37",
   "metadata": {},
   "outputs": [
    {
     "name": "stdout",
     "output_type": "stream",
     "text": [
      "Model evaluation: \n",
      "10/10 [==============================] - 0s 4ms/step - loss: 4.3109 - accuracy: 0.3633\n"
     ]
    },
    {
     "data": {
      "text/plain": [
       "[4.310904502868652, 0.3633333444595337]"
      ]
     },
     "execution_count": 23,
     "metadata": {},
     "output_type": "execute_result"
    }
   ],
   "source": [
    "# evaluate model\n",
    "print('Model evaluation: ')\n",
    "model.evaluate(x_test, y_test, verbose = True)"
   ]
  },
  {
   "cell_type": "code",
   "execution_count": null,
   "id": "7e6046e2",
   "metadata": {},
   "outputs": [],
   "source": []
  }
 ],
 "metadata": {
  "kernelspec": {
   "display_name": "Python 3 (ipykernel)",
   "language": "python",
   "name": "python3"
  },
  "language_info": {
   "codemirror_mode": {
    "name": "ipython",
    "version": 3
   },
   "file_extension": ".py",
   "mimetype": "text/x-python",
   "name": "python",
   "nbconvert_exporter": "python",
   "pygments_lexer": "ipython3",
   "version": "3.9.12"
  }
 },
 "nbformat": 4,
 "nbformat_minor": 5
}
