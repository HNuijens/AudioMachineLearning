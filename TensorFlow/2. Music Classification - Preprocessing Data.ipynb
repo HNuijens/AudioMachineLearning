{
 "cells": [
  {
   "cell_type": "markdown",
   "id": "5944cda8",
   "metadata": {},
   "source": [
    "<h1 style = \"font-size:3rem;color:darkcyan\"> Music genre classication - preprocessing data </h1>\n"
   ]
  },
  {
   "cell_type": "code",
   "execution_count": 10,
   "id": "4e4097e3",
   "metadata": {},
   "outputs": [],
   "source": [
    "# importing libraries\n",
    "import numpy as np\n",
    "import pandas as pd\n",
    "import json\n",
    "import os\n",
    "import librosa\n",
    "import librosa.display"
   ]
  },
  {
   "cell_type": "code",
   "execution_count": 21,
   "id": "1585f5c9",
   "metadata": {},
   "outputs": [],
   "source": [
    "def preprocess_dataset(dataset_path, json_path, audio_duration, n_segments = 10, n_mfcc = 13, n_fft = 2048, hop_size = 512, sample_rate=22100):\n",
    "    data  = {\n",
    "        'mappings' : [],  # corresponding genre\n",
    "        'labels' : [],    # corresponding number\n",
    "        'MFCC' : [],      # extracted mfcc\n",
    "        'filenames' : []  # original filenames\n",
    "     }\n",
    "   \n",
    "    n_samples_in_audio_file = int(sample_rate * audio_duration)\n",
    "    n_samples_per_segment = int(np.ceil(n_samples_in_audio_file / n_segments))\n",
    "    \n",
    "    n_folders = len(os.listdir(dataset_path))\n",
    "    \n",
    "    for i, (dirpath, dirnames, filenames) in enumerate(os.walk(root)):\n",
    "        if dirpath is not root:\n",
    "            print(f'processing folder {i} out of {n_folders}')\n",
    "            \n",
    "            category = dirpath.split(os.sep)[-1] # last index in list when split\n",
    "            data['mappings'].append(category)\n",
    "            \n",
    "            \n",
    "            for file in filenames:\n",
    "                # load audio\n",
    "                file_path = os.path.join(dirpath + '/' + file)\n",
    "                audio_file, _ = librosa.load(file_path, sr = sample_rate, mono=True)\n",
    "               \n",
    "                # segmentation (augmented data)\n",
    "                for s in range(n_segments): \n",
    "                    start_sample = n_samples_per_segment * s\n",
    "                    end_sample = start_sample + n_samples_per_segment\n",
    "                    \n",
    "                    # get segment\n",
    "                    audio_segment = audio_file[start_sample:end_sample]\n",
    "                    \n",
    "                    # ignore if it contains too few samples\n",
    "                    if len(audio_segment) >= n_samples_per_segment:\n",
    "\n",
    "                        # extract mfccs\n",
    "                        mfcc = librosa.feature.mfcc(y = audio_segment,\n",
    "                                                    sr = sample_rate,\n",
    "                                                    n_mfcc = n_mfcc,\n",
    "                                                    n_fft = n_fft,\n",
    "                                                    hop_length = hop_size)\n",
    "\n",
    "                        # store data\n",
    "                        data['labels'].append(i-1)\n",
    "                        data['MFCC'].append(mfcc.T.tolist()) \n",
    "                        data['filenames'].append(file)        \n",
    "    \n",
    "    print(f'Saving dataset as {json_path}...')                \n",
    "    with open(json_path, 'w') as fp:\n",
    "        json.dump(data, fp, indent = 4)\n",
    "    print(f'Done saving ') "
   ]
  },
  {
   "cell_type": "code",
   "execution_count": 22,
   "id": "b34fa70e",
   "metadata": {},
   "outputs": [
    {
     "name": "stdout",
     "output_type": "stream",
     "text": [
      "processing folder 1 out of 10\n",
      "processing folder 2 out of 10\n",
      "processing folder 3 out of 10\n",
      "processing folder 4 out of 10\n",
      "processing folder 5 out of 10\n",
      "processing folder 6 out of 10\n",
      "processing folder 7 out of 10\n",
      "processing folder 8 out of 10\n",
      "processing folder 9 out of 10\n",
      "processing folder 10 out of 10\n",
      "Saving dataset as data.json...\n",
      "Done saving \n"
     ]
    }
   ],
   "source": [
    "root = '../../../Datasets/Music/Genres/archive/Data/genres_original'\n",
    "preprocess_dataset(root, 'data.json', n_segments = 10, audio_duration = 30)"
   ]
  },
  {
   "cell_type": "code",
   "execution_count": null,
   "id": "419a8f19",
   "metadata": {},
   "outputs": [],
   "source": []
  }
 ],
 "metadata": {
  "kernelspec": {
   "display_name": "Python 3 (ipykernel)",
   "language": "python",
   "name": "python3"
  },
  "language_info": {
   "codemirror_mode": {
    "name": "ipython",
    "version": 3
   },
   "file_extension": ".py",
   "mimetype": "text/x-python",
   "name": "python",
   "nbconvert_exporter": "python",
   "pygments_lexer": "ipython3",
   "version": "3.9.12"
  }
 },
 "nbformat": 4,
 "nbformat_minor": 5
}
