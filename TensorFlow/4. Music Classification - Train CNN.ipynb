{
 "cells": [
  {
   "cell_type": "markdown",
   "id": "8e427796",
   "metadata": {},
   "source": [
    "<h1 style = \"font-size:3rem;color:darkcyan\"> Music genre classication - Train CNN Model </h1>"
   ]
  },
  {
   "cell_type": "code",
   "execution_count": 1,
   "id": "e3e981c5",
   "metadata": {},
   "outputs": [],
   "source": [
    "# import libraries\n",
    "import numpy as np\n",
    "import tensorflow as tf\n",
    "import json\n",
    "from sklearn.model_selection import train_test_split\n",
    "import sklearn\n",
    "import matplotlib.pyplot as plt"
   ]
  },
  {
   "cell_type": "code",
   "execution_count": 2,
   "id": "ab1248f5",
   "metadata": {},
   "outputs": [],
   "source": [
    "# importing dataset (.json)\n",
    "def import_dataset(dataset_path):\n",
    "    \n",
    "    # open json file\n",
    "    with open(dataset_path, 'r') as f:\n",
    "        data = json.load(f)\n",
    "    \n",
    "    # split list into different np arrays\n",
    "    \n",
    "    mappings = np.array(data['mappings']) \n",
    "    inputs = np.array(data['MFCC'])\n",
    "    targets = np.array(data['labels'])\n",
    "    filenames = np.array(data['filenames'])\n",
    "    \n",
    "    return mappings, inputs, targets, filenames"
   ]
  },
  {
   "cell_type": "code",
   "execution_count": 4,
   "id": "647c2fff",
   "metadata": {},
   "outputs": [],
   "source": [
    "mappings, inputs, targets, filenames = import_dataset('data.json')"
   ]
  },
  {
   "cell_type": "code",
   "execution_count": 6,
   "id": "f215f679",
   "metadata": {},
   "outputs": [],
   "source": [
    "x_train, x_test, y_train, y_test = train_test_split(inputs, targets, test_size = 0.3)"
   ]
  },
  {
   "cell_type": "code",
   "execution_count": 8,
   "id": "b2df118a",
   "metadata": {},
   "outputs": [
    {
     "data": {
      "text/plain": [
       "(6986, 130, 13)"
      ]
     },
     "execution_count": 8,
     "metadata": {},
     "output_type": "execute_result"
    }
   ],
   "source": [
    "x_train.shape"
   ]
  },
  {
   "cell_type": "code",
   "execution_count": null,
   "id": "3b782c0f",
   "metadata": {},
   "outputs": [],
   "source": []
  }
 ],
 "metadata": {
  "kernelspec": {
   "display_name": "Python 3 (ipykernel)",
   "language": "python",
   "name": "python3"
  },
  "language_info": {
   "codemirror_mode": {
    "name": "ipython",
    "version": 3
   },
   "file_extension": ".py",
   "mimetype": "text/x-python",
   "name": "python",
   "nbconvert_exporter": "python",
   "pygments_lexer": "ipython3",
   "version": "3.9.12"
  }
 },
 "nbformat": 4,
 "nbformat_minor": 5
}
