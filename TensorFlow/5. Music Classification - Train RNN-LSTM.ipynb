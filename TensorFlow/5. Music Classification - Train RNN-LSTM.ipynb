{
 "cells": [
  {
   "cell_type": "markdown",
   "id": "3c961570",
   "metadata": {},
   "source": [
    "<h1 style = \"font-size:3rem;color:darkcyan\"> Music genre classication - Train RNN - LSTM Model </h1>"
   ]
  },
  {
   "cell_type": "code",
   "execution_count": 6,
   "id": "a307429f",
   "metadata": {},
   "outputs": [],
   "source": [
    "# importing libraries\n",
    "import numpy as np\n",
    "import tensorflow as tf\n",
    "import json\n",
    "from sklearn.model_selection import train_test_split\n",
    "import matplotlib.pyplot as plt"
   ]
  },
  {
   "cell_type": "code",
   "execution_count": 7,
   "id": "29d2bceb",
   "metadata": {},
   "outputs": [],
   "source": [
    "# prepare dataset\n",
    "def import_dataset(dataset_path):\n",
    "   \n",
    "    # open json file\n",
    "    with open(dataset_path, 'r') as f:\n",
    "        data = json.load(f)\n",
    "    \n",
    "    # split list into different np arrays\n",
    "    mappings = np.array(data['mappings']) \n",
    "    inputs = np.array(data['MFCC'])\n",
    "    targets = np.array(data['labels'])\n",
    "    filenames = np.array(data['filenames'])\n",
    "    \n",
    "    return mappings, inputs, targets, filenames"
   ]
  },
  {
   "cell_type": "code",
   "execution_count": 8,
   "id": "feb77aa5",
   "metadata": {},
   "outputs": [],
   "source": [
    "mappings, inputs, targets, filenames = import_dataset('data.json')"
   ]
  },
  {
   "cell_type": "code",
   "execution_count": 9,
   "id": "ce2ea318",
   "metadata": {},
   "outputs": [],
   "source": [
    "def train_val_test_split(x, y, filenames, test_size = 0.25, val_size = 0.2):\n",
    "    if (0 < test_size < 1)  and (0 < val_size < 1):\n",
    "        train_size = 1 - test_size - val_size\n",
    "        if train_size > 0:\n",
    "\n",
    "            # train test split\n",
    "            (\n",
    "            x_train, x_test, \n",
    "            y_train, y_test,\n",
    "            fn_train, fn_test\n",
    "            ) = train_test_split(x, y, filenames, test_size = test_size)\n",
    "\n",
    "            #train validation split\n",
    "            (\n",
    "            x_train, x_val, \n",
    "            y_train, y_val, \n",
    "            fn_train, fn_val\n",
    "            ) = train_test_split(x_train, y_train, fn_train, test_size = val_size)\n",
    "\n",
    "            return x_train, x_val, x_test, y_train, y_val, y_test, fn_train, fn_val, fn_test\n",
    "        else: \n",
    "            print('train size is too small, adjust test and validation sizes')\n",
    "            return\n",
    "    else:\n",
    "        print('test and validation size should be between 0 and 1!')\n",
    "        return"
   ]
  },
  {
   "cell_type": "code",
   "execution_count": 10,
   "id": "0c257523",
   "metadata": {},
   "outputs": [],
   "source": [
    "# split data into train, validation and test sets\n",
    "(\n",
    "x_train, x_val, x_test,\n",
    "y_train, y_val, y_test,\n",
    "fn_train, fn_val, fn_test\n",
    ") = train_val_test_split(inputs, targets, filenames, test_size = 0.25, val_size = 0.2)"
   ]
  },
  {
   "cell_type": "code",
   "execution_count": 23,
   "id": "74f2c68a",
   "metadata": {},
   "outputs": [],
   "source": [
    "def build_RNN_LSTM_model(input_shape, output_len):\n",
    "    \n",
    "    # create model\n",
    "    model = tf.keras.Sequential()\n",
    "    \n",
    "    # 2 LSTM layers\n",
    "    model.add(tf.keras.layers.LSTM(64, input_shape = input_shape, return_sequences=True))\n",
    "    model.add(tf.keras.layers.LSTM(64))\n",
    "    \n",
    "    # dense layer\n",
    "    model.add(tf.keras.layers.Dense(64, activation = 'relu'))\n",
    "    model.add(tf.keras.layers.Dropout(0.3))\n",
    "   \n",
    "    # output layer with softmax\n",
    "    model.add(tf.keras.layers.Dense(output_len, activation = 'softmax'))\n",
    "    \n",
    "    return model"
   ]
  },
  {
   "cell_type": "code",
   "execution_count": 24,
   "id": "4f808e92",
   "metadata": {},
   "outputs": [],
   "source": [
    "# build model\n",
    "input_shape = (x_train.shape[1], x_train.shape[2])\n",
    "model = build_RNN_LSTM_model(input_shape, len(mappings))"
   ]
  },
  {
   "cell_type": "code",
   "execution_count": 25,
   "id": "413ac1fc",
   "metadata": {},
   "outputs": [],
   "source": [
    "learning_rate = 0.0001\n",
    "optimizer = tf.keras.optimizers.Adam(learning_rate)\n",
    "model.compile(optimizer = optimizer,\n",
    "             loss='sparse_categorical_crossentropy',\n",
    "             metrics = ['accuracy'])\n"
   ]
  },
  {
   "cell_type": "code",
   "execution_count": 26,
   "id": "441fda62",
   "metadata": {},
   "outputs": [
    {
     "name": "stdout",
     "output_type": "stream",
     "text": [
      "Model: \"sequential_4\"\n",
      "_________________________________________________________________\n",
      " Layer (type)                Output Shape              Param #   \n",
      "=================================================================\n",
      " lstm_6 (LSTM)               (None, 130, 64)           19968     \n",
      "                                                                 \n",
      " lstm_7 (LSTM)               (None, 64)                33024     \n",
      "                                                                 \n",
      " dense_1 (Dense)             (None, 64)                4160      \n",
      "                                                                 \n",
      " dropout (Dropout)           (None, 64)                0         \n",
      "                                                                 \n",
      " dense_2 (Dense)             (None, 10)                650       \n",
      "                                                                 \n",
      "=================================================================\n",
      "Total params: 57,802\n",
      "Trainable params: 57,802\n",
      "Non-trainable params: 0\n",
      "_________________________________________________________________\n"
     ]
    }
   ],
   "source": [
    "model.summary()"
   ]
  },
  {
   "cell_type": "code",
   "execution_count": 27,
   "id": "49a0fccd",
   "metadata": {},
   "outputs": [
    {
     "name": "stdout",
     "output_type": "stream",
     "text": [
      "Epoch 1/30\n",
      "188/188 [==============================] - 35s 149ms/step - loss: 2.2307 - accuracy: 0.1922 - val_loss: 2.0914 - val_accuracy: 0.3293\n",
      "Epoch 2/30\n",
      "188/188 [==============================] - 24s 129ms/step - loss: 1.9560 - accuracy: 0.3385 - val_loss: 1.7932 - val_accuracy: 0.4001\n",
      "Epoch 3/30\n",
      "188/188 [==============================] - 16s 83ms/step - loss: 1.7248 - accuracy: 0.4020 - val_loss: 1.6012 - val_accuracy: 0.4616\n",
      "Epoch 4/30\n",
      "188/188 [==============================] - 11s 60ms/step - loss: 1.5956 - accuracy: 0.4359 - val_loss: 1.4950 - val_accuracy: 0.4916\n",
      "Epoch 5/30\n",
      "188/188 [==============================] - 12s 62ms/step - loss: 1.5077 - accuracy: 0.4671 - val_loss: 1.4311 - val_accuracy: 0.5023\n",
      "Epoch 6/30\n",
      "188/188 [==============================] - 11s 61ms/step - loss: 1.4533 - accuracy: 0.4848 - val_loss: 1.3981 - val_accuracy: 0.5164\n",
      "Epoch 7/30\n",
      "188/188 [==============================] - 11s 61ms/step - loss: 1.4149 - accuracy: 0.4983 - val_loss: 1.3508 - val_accuracy: 0.5411\n",
      "Epoch 8/30\n",
      "188/188 [==============================] - 12s 62ms/step - loss: 1.3611 - accuracy: 0.5222 - val_loss: 1.3251 - val_accuracy: 0.5511\n",
      "Epoch 9/30\n",
      "188/188 [==============================] - 11s 61ms/step - loss: 1.3274 - accuracy: 0.5361 - val_loss: 1.2834 - val_accuracy: 0.5645\n",
      "Epoch 10/30\n",
      "188/188 [==============================] - 12s 62ms/step - loss: 1.2768 - accuracy: 0.5578 - val_loss: 1.2676 - val_accuracy: 0.5625\n",
      "Epoch 11/30\n",
      "188/188 [==============================] - 12s 62ms/step - loss: 1.2512 - accuracy: 0.5618 - val_loss: 1.2542 - val_accuracy: 0.5711\n",
      "Epoch 12/30\n",
      "188/188 [==============================] - 12s 62ms/step - loss: 1.2228 - accuracy: 0.5788 - val_loss: 1.2451 - val_accuracy: 0.5818\n",
      "Epoch 13/30\n",
      "188/188 [==============================] - 12s 63ms/step - loss: 1.2095 - accuracy: 0.5857 - val_loss: 1.2419 - val_accuracy: 0.5898\n",
      "Epoch 14/30\n",
      "188/188 [==============================] - 12s 63ms/step - loss: 1.1772 - accuracy: 0.6010 - val_loss: 1.2264 - val_accuracy: 0.5812\n",
      "Epoch 15/30\n",
      "188/188 [==============================] - 12s 63ms/step - loss: 1.1528 - accuracy: 0.6097 - val_loss: 1.2182 - val_accuracy: 0.5858\n",
      "Epoch 16/30\n",
      "188/188 [==============================] - 12s 63ms/step - loss: 1.1277 - accuracy: 0.6232 - val_loss: 1.2140 - val_accuracy: 0.5865\n",
      "Epoch 17/30\n",
      "188/188 [==============================] - 12s 63ms/step - loss: 1.1055 - accuracy: 0.6401 - val_loss: 1.2081 - val_accuracy: 0.5872\n",
      "Epoch 18/30\n",
      "188/188 [==============================] - 12s 66ms/step - loss: 1.1003 - accuracy: 0.6278 - val_loss: 1.1708 - val_accuracy: 0.6112\n",
      "Epoch 19/30\n",
      "188/188 [==============================] - 13s 67ms/step - loss: 1.0660 - accuracy: 0.6438 - val_loss: 1.1720 - val_accuracy: 0.6039\n",
      "Epoch 20/30\n",
      "188/188 [==============================] - 13s 71ms/step - loss: 1.0593 - accuracy: 0.6511 - val_loss: 1.1732 - val_accuracy: 0.6159\n",
      "Epoch 21/30\n",
      "188/188 [==============================] - 12s 66ms/step - loss: 1.0331 - accuracy: 0.6633 - val_loss: 1.1582 - val_accuracy: 0.6239\n",
      "Epoch 22/30\n",
      "188/188 [==============================] - 12s 65ms/step - loss: 1.0296 - accuracy: 0.6612 - val_loss: 1.1688 - val_accuracy: 0.6025\n",
      "Epoch 23/30\n",
      "188/188 [==============================] - 12s 65ms/step - loss: 1.0031 - accuracy: 0.6705 - val_loss: 1.1411 - val_accuracy: 0.6232\n",
      "Epoch 24/30\n",
      "188/188 [==============================] - 12s 66ms/step - loss: 1.0042 - accuracy: 0.6647 - val_loss: 1.1388 - val_accuracy: 0.6186\n",
      "Epoch 25/30\n",
      "188/188 [==============================] - 12s 65ms/step - loss: 0.9814 - accuracy: 0.6804 - val_loss: 1.1322 - val_accuracy: 0.6279\n",
      "Epoch 26/30\n",
      "188/188 [==============================] - 12s 66ms/step - loss: 0.9607 - accuracy: 0.6787 - val_loss: 1.1301 - val_accuracy: 0.6273\n",
      "Epoch 27/30\n",
      "188/188 [==============================] - 12s 65ms/step - loss: 0.9547 - accuracy: 0.6820 - val_loss: 1.1084 - val_accuracy: 0.6313\n",
      "Epoch 28/30\n",
      "188/188 [==============================] - 13s 67ms/step - loss: 0.9414 - accuracy: 0.6864 - val_loss: 1.1216 - val_accuracy: 0.6239\n",
      "Epoch 29/30\n",
      "188/188 [==============================] - 12s 62ms/step - loss: 0.9366 - accuracy: 0.6959 - val_loss: 1.1106 - val_accuracy: 0.6440\n",
      "Epoch 30/30\n",
      "188/188 [==============================] - 12s 63ms/step - loss: 0.9101 - accuracy: 0.6999 - val_loss: 1.1133 - val_accuracy: 0.6339\n"
     ]
    }
   ],
   "source": [
    "history = model.fit(x_train, y_train,\n",
    "                   validation_data = (x_val, y_val),\n",
    "                   batch_size = 32, \n",
    "                   epochs = 30)"
   ]
  },
  {
   "cell_type": "code",
   "execution_count": 28,
   "id": "e619cac5",
   "metadata": {},
   "outputs": [],
   "source": [
    "def plot_training_history(history, figsize = [15,6]):\n",
    "    \n",
    "    fig, ax = plt.subplots(2, figsize=figsize)\n",
    "    \n",
    "    # create accuracy subplot\n",
    "    ax[0].plot(history.history['accuracy'], label = 'Training Accuracy')\n",
    "    ax[0].plot(history.history['val_accuracy'], label = 'Validation Accuracy')\n",
    "    ax[0].set_ylabel('Accuracy')\n",
    "    ax[0].legend(loc='lower right')\n",
    "    ax[0].set_title('Accuracy Evaluation')\n",
    "    \n",
    "    # create error subplot\n",
    "    ax[1].plot(history.history['loss'], label = 'Training Error')\n",
    "    ax[1].plot(history.history['val_loss'], label = 'Validation Error')\n",
    "    ax[1].set_ylabel('Error')\n",
    "    ax[1].set_xlabel('Epoch')\n",
    "    ax[1].legend(loc='upper right')\n",
    "    ax[1].set_title('Error Evaluation')\n",
    "    \n",
    "    plt.show()"
   ]
  },
  {
   "cell_type": "code",
   "execution_count": 29,
   "id": "34135c36",
   "metadata": {},
   "outputs": [
    {
     "data": {
      "image/png": "[encoded data removed]",
      "text/plain": [
       "<Figure size 1080x432 with 2 Axes>"
      ]
     },
     "metadata": {
      "needs_background": "light"
     },
     "output_type": "display_data"
    }
   ],
   "source": [
    "plot_training_history(history)"
   ]
  },
  {
   "cell_type": "code",
   "execution_count": null,
   "id": "6e994da2",
   "metadata": {},
   "outputs": [],
   "source": []
  }
 ],
 "metadata": {
  "kernelspec": {
   "display_name": "Python 3 (ipykernel)",
   "language": "python",
   "name": "python3"
  },
  "language_info": {
   "codemirror_mode": {
    "name": "ipython",
    "version": 3
   },
   "file_extension": ".py",
   "mimetype": "text/x-python",
   "name": "python",
   "nbconvert_exporter": "python",
   "pygments_lexer": "ipython3",
   "version": "3.9.12"
  }
 },
 "nbformat": 4,
 "nbformat_minor": 5
}
